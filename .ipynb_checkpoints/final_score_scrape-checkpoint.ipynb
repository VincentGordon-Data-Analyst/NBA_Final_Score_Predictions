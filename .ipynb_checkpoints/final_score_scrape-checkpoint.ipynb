{
 "cells": [
  {
   "cell_type": "code",
   "execution_count": 1,
   "id": "f8c86f2e-21b1-43c2-850f-ee9334957edd",
   "metadata": {},
   "outputs": [],
   "source": [
    "# Import relevant libraries\n",
    "from splinter import Browser\n",
    "from bs4 import BeautifulSoup\n",
    "import os\n",
    "import pandas as pd"
   ]
  },
  {
   "cell_type": "code",
   "execution_count": 2,
   "id": "86441e7c-3fa9-41d1-aa2c-949b3ff6ce92",
   "metadata": {},
   "outputs": [],
   "source": [
    "DATA_DIR = \"data\"\n",
    "STANDINGS_DIR = os.path.join(DATA_DIR, \"standings\")\n",
    "SCORES_DIR = os.path.join(DATA_DIR, \"scores\")"
   ]
  },
  {
   "cell_type": "code",
   "execution_count": 3,
   "id": "9b4b9556-79cc-4b5a-82db-5f430cf3c752",
   "metadata": {},
   "outputs": [
    {
     "data": {
      "text/plain": [
       "[2021]"
      ]
     },
     "execution_count": 3,
     "metadata": {},
     "output_type": "execute_result"
    }
   ],
   "source": [
    "seasons = list(range(2021,2022))\n",
    "seasons"
   ]
  },
  {
   "cell_type": "code",
   "execution_count": 4,
   "id": "4f0e3967-173a-411e-af55-70d4735a1192",
   "metadata": {},
   "outputs": [],
   "source": [
    "# Set up the browser\n",
    "executable_path = {'executable_path':\"C:\\Program Files (x86)\\msedgedriver.exe\"}\n",
    "browser = Browser('edge', **executable_path)"
   ]
  },
  {
   "cell_type": "code",
   "execution_count": 5,
   "id": "eaf6ed24-4036-4c8e-9a23-0bf40e0e072f",
   "metadata": {},
   "outputs": [],
   "source": [
    "for season in seasons:\n",
    "    # Visit the website for scraping\n",
    "    url = f\"https://www.basketball-reference.com/leagues/NBA_{season}_games.html\"\n",
    "    browser.visit(url)\n",
    "\n",
    "    # Create a BeautifulSoup object\n",
    "    html = browser.html\n",
    "    soup = BeautifulSoup(html, 'html.parser')\n",
    "\n",
    "    filter_div = soup.find('div', class_='filter')\n",
    "    links = filter_div.find_all('a')\n",
    "    urls = [link.get(\"href\") for link in links]"
   ]
  },
  {
   "cell_type": "code",
   "execution_count": 6,
   "id": "e3642187-9aba-46a4-81a8-d9d1228e87e4",
   "metadata": {},
   "outputs": [],
   "source": [
    "table = soup.find('table', id='schedule')\n",
    "\n",
    "links = table.find_all(\"a\")\n",
    "hrefs = [link.get('href') for link in links]\n",
    "box_scores = [link for link in hrefs if link and \"boxscore\" in link and \".html\" in link]\n",
    "box_scores = [f\"https://www.basketball-reference.com{score}\" for score in box_scores]"
   ]
  },
  {
   "cell_type": "code",
   "execution_count": 7,
   "id": "b78dac0b-fb06-4939-872e-3110b3b4803e",
   "metadata": {},
   "outputs": [],
   "source": [
    "box_score = box_scores[0]\n",
    "browser.visit(box_score)\n",
    "\n",
    "html=browser.html\n",
    "soup = BeautifulSoup(html, 'html.parser')"
   ]
  },
  {
   "cell_type": "code",
   "execution_count": 8,
   "id": "c252f249-8f33-474c-b9c8-a707a15b195a",
   "metadata": {},
   "outputs": [],
   "source": [
    "score_table = soup.find('table', id='line_score')\n",
    "tbody = score_table.find('tbody')\n",
    "rows = tbody.find_all('tr')\n",
    "\n",
    "line_score = []\n",
    "\n",
    "for row in rows:\n",
    "    # Get team name\n",
    "    team = row.find('th', class_='center').text\n",
    "    columns = row.find_all('td')\n",
    "    \n",
    "    # Create line score dictionary\n",
    "    if(columns !=[]):\n",
    "        total = columns[4].text\n",
    "    \n",
    "    # Create dictionary for dataframe later\n",
    "    line_score_dict = { \"team\": team,\n",
    "                        \"total\": total\n",
    "    }\n",
    "    \n",
    "    # Add dictionary to array\n",
    "    line_score.append(line_score_dict)"
   ]
  },
  {
   "cell_type": "code",
   "execution_count": 9,
   "id": "b911acf4-2c4d-42c3-9ff2-faca3fdcdb46",
   "metadata": {},
   "outputs": [
    {
     "data": {
      "text/html": [
       "<div>\n",
       "<style scoped>\n",
       "    .dataframe tbody tr th:only-of-type {\n",
       "        vertical-align: middle;\n",
       "    }\n",
       "\n",
       "    .dataframe tbody tr th {\n",
       "        vertical-align: top;\n",
       "    }\n",
       "\n",
       "    .dataframe thead th {\n",
       "        text-align: right;\n",
       "    }\n",
       "</style>\n",
       "<table border=\"1\" class=\"dataframe\">\n",
       "  <thead>\n",
       "    <tr style=\"text-align: right;\">\n",
       "      <th></th>\n",
       "      <th>team</th>\n",
       "      <th>total</th>\n",
       "    </tr>\n",
       "  </thead>\n",
       "  <tbody>\n",
       "    <tr>\n",
       "      <th>0</th>\n",
       "      <td>GSW</td>\n",
       "      <td>99</td>\n",
       "    </tr>\n",
       "    <tr>\n",
       "      <th>1</th>\n",
       "      <td>BRK</td>\n",
       "      <td>125</td>\n",
       "    </tr>\n",
       "  </tbody>\n",
       "</table>\n",
       "</div>"
      ],
      "text/plain": [
       "  team total\n",
       "0  GSW    99\n",
       "1  BRK   125"
      ]
     },
     "execution_count": 9,
     "metadata": {},
     "output_type": "execute_result"
    }
   ],
   "source": [
    "# Create Data frame\n",
    "score_df = pd.DataFrame(line_score)\n",
    "score_df"
   ]
  },
  {
   "cell_type": "code",
   "execution_count": 10,
   "id": "359084c0-d200-4144-88fa-b450fc2a9a99",
   "metadata": {},
   "outputs": [],
   "source": [
    "# Get basic and advanced box scores\n",
    "teams = []\n",
    "for i in range(len(line_score)):\n",
    "    teams.append(line_score[i]['team'])"
   ]
  },
  {
   "cell_type": "code",
   "execution_count": 156,
   "id": "8963d828-50b0-45b8-a816-080e5a07c6af",
   "metadata": {},
   "outputs": [
    {
     "ename": "KeyError",
     "evalue": "0",
     "output_type": "error",
     "traceback": [
      "\u001b[1;31m---------------------------------------------------------------------------\u001b[0m",
      "\u001b[1;31mKeyError\u001b[0m                                  Traceback (most recent call last)",
      "Input \u001b[1;32mIn [156]\u001b[0m, in \u001b[0;36m<cell line: 1>\u001b[1;34m()\u001b[0m\n\u001b[1;32m----> 1\u001b[0m teams \u001b[38;5;241m=\u001b[39m \u001b[38;5;28mlist\u001b[39m(\u001b[43mline_score\u001b[49m\u001b[43m[\u001b[49m\u001b[38;5;241;43m0\u001b[39;49m\u001b[43m]\u001b[49m\u001b[43m[\u001b[49m\u001b[38;5;241;43m0\u001b[39;49m\u001b[43m]\u001b[49m)\n\u001b[0;32m      2\u001b[0m teams\n",
      "\u001b[1;31mKeyError\u001b[0m: 0"
     ]
    }
   ],
   "source": [
    "teams = list(line_score[0][0])\n",
    "teams"
   ]
  },
  {
   "cell_type": "code",
   "execution_count": 147,
   "id": "06221b46-48bf-4eff-af86-e6a5e1254ef1",
   "metadata": {},
   "outputs": [
    {
     "name": "stderr",
     "output_type": "stream",
     "text": [
      "C:\\Users\\User\\AppData\\Local\\Temp\\ipykernel_6288\\3991613202.py:30: FutureWarning: Dropping of nuisance columns in DataFrame reductions (with 'numeric_only=None') is deprecated; in a future version this will raise TypeError.  Select only valid columns before calling the reduction.\n",
      "  maxes = pd.concat([basic.iloc[:-1, :].max(), advanced.iloc[:-1, :].max()])\n",
      "C:\\Users\\User\\AppData\\Local\\Temp\\ipykernel_6288\\3991613202.py:30: FutureWarning: Dropping of nuisance columns in DataFrame reductions (with 'numeric_only=None') is deprecated; in a future version this will raise TypeError.  Select only valid columns before calling the reduction.\n",
      "  maxes = pd.concat([basic.iloc[:-1, :].max(), advanced.iloc[:-1, :].max()])\n"
     ]
    }
   ],
   "source": [
    "# team = teams[0]\n",
    "\n",
    "soup = BeautifulSoup(html, 'html.parser')\n",
    "\n",
    "for team in teams:\n",
    "    # Convert html table into pandas dataframe\n",
    "    basic = pd.read_html(str(soup), attrs={\"id\": f\"box-{team}-game-basic\"}, index_col=0)[0]\n",
    "    advanced = pd.read_html(str(soup), attrs={\"id\": f\"box-{team}-game-advanced\"}, index_col=0)[0]\n",
    "\n",
    "    # Remove the row that contains heards within the dataframe\n",
    "    advanced = advanced.drop('Reserves')\n",
    "    basic = basic.drop('Reserves')\n",
    "    \n",
    "    # Get headers for basic and advanced stats\n",
    "    advanced_columns = []\n",
    "    basic_columns = []\n",
    "    for i in range(len(advanced.columns)):\n",
    "        advanced_columns.append(advanced.columns[i][1])\n",
    "\n",
    "    for i in range(len(basic.columns)):\n",
    "        basic_columns.append(basic.columns[i][1])\n",
    "\n",
    "    advanced.columns = advanced_columns\n",
    "    basic.columns = basic_columns\n",
    "    \n",
    "    # Totals and Maxes\n",
    "    totals = pd.concat([basic.iloc[-1, :], advanced.iloc[-1, :]])\n",
    "    totals.index = totals.index.str.lower()\n",
    "\n",
    "    maxes = pd.concat([basic.iloc[:-1, :].max(), advanced.iloc[:-1, :].max()])\n",
    "    maxes.index = maxes.index.str.lower() + \"_max\"\n",
    "    \n",
    "    summary = pd.concat([totals, maxes])\n"
   ]
  },
  {
   "cell_type": "code",
   "execution_count": 148,
   "id": "983213f4-3e4f-406b-9eb9-52e7a989c005",
   "metadata": {},
   "outputs": [
    {
     "data": {
      "text/plain": [
       "mp           240\n",
       "fg            42\n",
       "fga           92\n",
       "fg%         .457\n",
       "3p            15\n",
       "            ... \n",
       "tov%_max     9.2\n",
       "usg%_max     6.4\n",
       "ortg_max      82\n",
       "drtg_max      98\n",
       "bpm_max      9.9\n",
       "Length: 70, dtype: object"
      ]
     },
     "execution_count": 148,
     "metadata": {},
     "output_type": "execute_result"
    }
   ],
   "source": [
    "summary"
   ]
  },
  {
   "cell_type": "code",
   "execution_count": null,
   "id": "92b20ea5-cfda-44cc-a556-43adde2230ca",
   "metadata": {},
   "outputs": [],
   "source": []
  }
 ],
 "metadata": {
  "kernelspec": {
   "display_name": "Python 3 (ipykernel)",
   "language": "python",
   "name": "python3"
  },
  "language_info": {
   "codemirror_mode": {
    "name": "ipython",
    "version": 3
   },
   "file_extension": ".py",
   "mimetype": "text/x-python",
   "name": "python",
   "nbconvert_exporter": "python",
   "pygments_lexer": "ipython3",
   "version": "3.9.12"
  }
 },
 "nbformat": 4,
 "nbformat_minor": 5
}
