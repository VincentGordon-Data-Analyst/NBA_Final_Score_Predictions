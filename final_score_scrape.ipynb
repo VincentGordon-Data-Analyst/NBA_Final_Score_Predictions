{
 "cells": [
  {
   "cell_type": "code",
   "execution_count": 520,
   "id": "0cc6461d-e8c8-4942-8287-50fd55b3a6bd",
   "metadata": {},
   "outputs": [],
   "source": [
    "# from selenium import webdriver\n",
    "# import time\n",
    "# from selenium.webdriver.support.ui import WebDriverWait\n",
    "# from selenium.webdriver.support import expected_conditions as EC\n",
    "# from selenium.webdriver.support.ui import Select\n",
    "# from selenium.webdriver.common.by import By\n",
    "# import os"
   ]
  },
  {
   "cell_type": "code",
   "execution_count": 521,
   "id": "f8c86f2e-21b1-43c2-850f-ee9334957edd",
   "metadata": {},
   "outputs": [],
   "source": [
    "# Import relevant libraries\n",
    "from splinter import Browser\n",
    "from bs4 import BeautifulSoup\n",
    "import os"
   ]
  },
  {
   "cell_type": "code",
   "execution_count": 522,
   "id": "86441e7c-3fa9-41d1-aa2c-949b3ff6ce92",
   "metadata": {},
   "outputs": [],
   "source": [
    "DATA_DIR = \"data\"\n",
    "STANDINGS_DIR = os.path.join(DATA_DIR, \"standings\")\n",
    "SCORES_DIR = os.path.join(DATA_DIR, \"scores\")"
   ]
  },
  {
   "cell_type": "code",
   "execution_count": 533,
   "id": "9b4b9556-79cc-4b5a-82db-5f430cf3c752",
   "metadata": {},
   "outputs": [
    {
     "data": {
      "text/plain": [
       "[2019, 2020]"
      ]
     },
     "execution_count": 533,
     "metadata": {},
     "output_type": "execute_result"
    }
   ],
   "source": [
    "seasons = list(range(2021,2024))\n",
    "seasons"
   ]
  },
  {
   "cell_type": "code",
   "execution_count": 524,
   "id": "4f0e3967-173a-411e-af55-70d4735a1192",
   "metadata": {},
   "outputs": [],
   "source": [
    "# Set up the browser\n",
    "executable_path = {'executable_path':\"C:\\Program Files (x86)\\msedgedriver.exe\"}\n",
    "browser = Browser('edge', **executable_path)"
   ]
  },
  {
   "cell_type": "code",
   "execution_count": 525,
   "id": "eaf6ed24-4036-4c8e-9a23-0bf40e0e072f",
   "metadata": {},
   "outputs": [],
   "source": [
    "for season in seasons:\n",
    "    # Visit the website for scraping\n",
    "    url = f\"https://www.basketball-reference.com/leagues/NBA_{season}_games.html\"\n",
    "    browser.visit(url)\n",
    "\n",
    "    # Create a BeautifulSoup object\n",
    "    html = browser.html\n",
    "    soup = BeautifulSoup(html, 'html.parser')\n",
    "\n",
    "    filter_div = soup.find('div', class_='filter')\n",
    "    links = filter_div.find_all('a')\n",
    "    urls = [link.get(\"href\") for link in links]"
   ]
  },
  {
   "cell_type": "code",
   "execution_count": 526,
   "id": "e3642187-9aba-46a4-81a8-d9d1228e87e4",
   "metadata": {},
   "outputs": [],
   "source": [
    "table = soup.find('table', id='schedule')\n",
    "\n",
    "links = table.find_all(\"a\")\n",
    "hrefs = [link.get('href') for link in links]\n",
    "box_scores = [link for link in hrefs if link and \"boxscore\" in link and \".html\" in link]\n",
    "box_scores = [f\"https://www.basketball-reference.com{score}\" for score in box_scores]"
   ]
  },
  {
   "cell_type": "code",
   "execution_count": 545,
   "id": "b78dac0b-fb06-4939-872e-3110b3b4803e",
   "metadata": {},
   "outputs": [],
   "source": [
    "box_score = box_scores[0]\n",
    "\n",
    "browser.visit(box_score)\n",
    "\n",
    "html=browser.html\n",
    "soup = BeautifulSoup(html, 'html.parser')"
   ]
  },
  {
   "cell_type": "code",
   "execution_count": 604,
   "id": "c252f249-8f33-474c-b9c8-a707a15b195a",
   "metadata": {},
   "outputs": [],
   "source": [
    "table = soup.find('table', id='line_score')\n",
    "tbody = table.find('tbody')\n",
    "rows = tbody.find_all('tr')\n",
    "\n",
    "line_score = []\n",
    "\n",
    "for row in rows:\n",
    "    # Get team name\n",
    "    team = row.find('th', class_='center').text\n",
    "    columns = row.find_all('td')\n",
    "    \n",
    "    # Create line score dictionary\n",
    "    if(columns !=[]):\n",
    "        q1 = columns[0].text\n",
    "        q2 = columns[1].text\n",
    "        q3 = columns[2].text\n",
    "        q4 = columns[3].text\n",
    "        total = columns[4].text\n",
    "    \n",
    "    line_score_dict = { \"team\": team,\n",
    "                            \"q1\": q1,\n",
    "                            \"q2\": q2,\n",
    "                            \"q3\": q3,\n",
    "                            \"q4\": q4,\n",
    "                            \"total\": total\n",
    "    }\n",
    "    \n",
    "    # Add dictionary to arry\n",
    "    line_score.append(line_score_dict)"
   ]
  },
  {
   "cell_type": "code",
   "execution_count": 605,
   "id": "847afaf8-26ec-4405-b5e5-42da3a6a088f",
   "metadata": {},
   "outputs": [
    {
     "data": {
      "text/plain": [
       "[{'team': 'PHI',\n",
       "  'q1': '21',\n",
       "  'q2': '21',\n",
       "  'q3': '24',\n",
       "  'q4': '21',\n",
       "  'total': '87'},\n",
       " {'team': 'BOS',\n",
       "  'q1': '21',\n",
       "  'q2': '26',\n",
       "  'q3': '30',\n",
       "  'q4': '28',\n",
       "  'total': '105'}]"
      ]
     },
     "execution_count": 605,
     "metadata": {},
     "output_type": "execute_result"
    }
   ],
   "source": [
    "line_score"
   ]
  },
  {
   "cell_type": "code",
   "execution_count": 607,
   "id": "86e5ceba-4fe6-4fcd-873b-9aaafd228cf4",
   "metadata": {},
   "outputs": [
    {
     "data": {
      "text/html": [
       "<div>\n",
       "<style scoped>\n",
       "    .dataframe tbody tr th:only-of-type {\n",
       "        vertical-align: middle;\n",
       "    }\n",
       "\n",
       "    .dataframe tbody tr th {\n",
       "        vertical-align: top;\n",
       "    }\n",
       "\n",
       "    .dataframe thead th {\n",
       "        text-align: right;\n",
       "    }\n",
       "</style>\n",
       "<table border=\"1\" class=\"dataframe\">\n",
       "  <thead>\n",
       "    <tr style=\"text-align: right;\">\n",
       "      <th></th>\n",
       "      <th>team</th>\n",
       "      <th>q1</th>\n",
       "      <th>q2</th>\n",
       "      <th>q3</th>\n",
       "      <th>q4</th>\n",
       "      <th>total</th>\n",
       "    </tr>\n",
       "  </thead>\n",
       "  <tbody>\n",
       "    <tr>\n",
       "      <th>0</th>\n",
       "      <td>PHI</td>\n",
       "      <td>21</td>\n",
       "      <td>21</td>\n",
       "      <td>24</td>\n",
       "      <td>21</td>\n",
       "      <td>87</td>\n",
       "    </tr>\n",
       "    <tr>\n",
       "      <th>1</th>\n",
       "      <td>BOS</td>\n",
       "      <td>21</td>\n",
       "      <td>26</td>\n",
       "      <td>30</td>\n",
       "      <td>28</td>\n",
       "      <td>105</td>\n",
       "    </tr>\n",
       "  </tbody>\n",
       "</table>\n",
       "</div>"
      ],
      "text/plain": [
       "  team  q1  q2  q3  q4 total\n",
       "0  PHI  21  21  24  21    87\n",
       "1  BOS  21  26  30  28   105"
      ]
     },
     "execution_count": 607,
     "metadata": {},
     "output_type": "execute_result"
    }
   ],
   "source": [
    "# Create Data frame\n",
    "import pandas as pd\n",
    "\n",
    "l_score = pd.DataFrame(line_score)\n",
    "l_score"
   ]
  },
  {
   "cell_type": "code",
   "execution_count": 608,
   "id": "f09c6e7f-5975-4cbe-a43b-d6a2185a2c03",
   "metadata": {},
   "outputs": [],
   "source": [
    "# for url in box_scores:\n",
    "#     save_path = os.path.join(SCORES_DIR, url.split(\"/\")[-1])\n",
    "#     if os.path.exists(save_path):\n",
    "#         continue\n",
    "    \n",
    "#     browser.visit(url)\n",
    "#     # Get html from url links\n",
    "#     html = browser.html\n",
    "#     if html:\n",
    "#         soup = BeautifulSoup(html, \"html.parser\")\n",
    "#         content = soup.find('div', id='content')\n",
    "#         if content:\n",
    "#             content_text = content.text\n",
    "       \n",
    "#         # Save to folder\n",
    "#         with open(save_path, \"w+\", encoding='utf-8') as f:\n",
    "#             f.write(content_text)"
   ]
  },
  {
   "cell_type": "code",
   "execution_count": 609,
   "id": "cbd8864a-1298-4549-af39-209b32170c16",
   "metadata": {},
   "outputs": [],
   "source": [
    "# standings_files"
   ]
  },
  {
   "cell_type": "code",
   "execution_count": 610,
   "id": "13a14085-65f6-4604-bf9a-1d94f03f97f3",
   "metadata": {},
   "outputs": [],
   "source": [
    "# files"
   ]
  },
  {
   "cell_type": "code",
   "execution_count": 611,
   "id": "60bd1529-46e4-49ca-932b-ae7335204aa9",
   "metadata": {},
   "outputs": [],
   "source": [
    "# DATA_DIR = \"data\"\n",
    "# STANDINGS_DIR = os.path.join(DATA_DIR, \"standings\")\n",
    "# SCORES_DIR = os.path.join(DATA_DIR, \"scores\")"
   ]
  },
  {
   "cell_type": "code",
   "execution_count": null,
   "id": "36898933-6e6d-4c1f-bb5a-95917149d6c0",
   "metadata": {},
   "outputs": [],
   "source": []
  },
  {
   "cell_type": "code",
   "execution_count": null,
   "id": "e5b0d2a5-139d-40f4-ac0c-22ce7689b934",
   "metadata": {},
   "outputs": [],
   "source": []
  },
  {
   "cell_type": "code",
   "execution_count": null,
   "id": "bb859915-8129-4624-942d-8e7f2db235c6",
   "metadata": {},
   "outputs": [],
   "source": []
  }
 ],
 "metadata": {
  "kernelspec": {
   "display_name": "Python 3 (ipykernel)",
   "language": "python",
   "name": "python3"
  },
  "language_info": {
   "codemirror_mode": {
    "name": "ipython",
    "version": 3
   },
   "file_extension": ".py",
   "mimetype": "text/x-python",
   "name": "python",
   "nbconvert_exporter": "python",
   "pygments_lexer": "ipython3",
   "version": "3.9.12"
  }
 },
 "nbformat": 4,
 "nbformat_minor": 5
}
