{
 "cells": [
  {
   "cell_type": "code",
   "execution_count": 1,
   "id": "0cc6461d-e8c8-4942-8287-50fd55b3a6bd",
   "metadata": {},
   "outputs": [],
   "source": [
    "# from selenium import webdriver\n",
    "# import time\n",
    "# from selenium.webdriver.support.ui import WebDriverWait\n",
    "# from selenium.webdriver.support import expected_conditions as EC\n",
    "# from selenium.webdriver.support.ui import Select\n",
    "# from selenium.webdriver.common.by import By\n",
    "# import os"
   ]
  },
  {
   "cell_type": "code",
   "execution_count": 2,
   "id": "f8c86f2e-21b1-43c2-850f-ee9334957edd",
   "metadata": {},
   "outputs": [],
   "source": [
    "# Import relevant libraries\n",
    "from splinter import Browser\n",
    "from bs4 import BeautifulSoup\n",
    "import os"
   ]
  },
  {
   "cell_type": "code",
   "execution_count": 3,
   "id": "86441e7c-3fa9-41d1-aa2c-949b3ff6ce92",
   "metadata": {},
   "outputs": [],
   "source": [
    "DATA_DIR = \"data\"\n",
    "STANDINGS_DIR = os.path.join(DATA_DIR, \"standings\")\n",
    "SCORES_DIR = os.path.join(DATA_DIR, \"scores\")"
   ]
  },
  {
   "cell_type": "code",
   "execution_count": 4,
   "id": "9b4b9556-79cc-4b5a-82db-5f430cf3c752",
   "metadata": {},
   "outputs": [
    {
     "data": {
      "text/plain": [
       "[2021, 2022, 2023]"
      ]
     },
     "execution_count": 4,
     "metadata": {},
     "output_type": "execute_result"
    }
   ],
   "source": [
    "seasons = list(range(2021,2024))\n",
    "seasons"
   ]
  },
  {
   "cell_type": "code",
   "execution_count": 5,
   "id": "4f0e3967-173a-411e-af55-70d4735a1192",
   "metadata": {},
   "outputs": [],
   "source": [
    "# Set up the browser\n",
    "executable_path = {'executable_path':\"C:\\Program Files (x86)\\msedgedriver.exe\"}\n",
    "browser = Browser('edge', **executable_path)"
   ]
  },
  {
   "cell_type": "code",
   "execution_count": 6,
   "id": "eaf6ed24-4036-4c8e-9a23-0bf40e0e072f",
   "metadata": {},
   "outputs": [],
   "source": [
    "for season in seasons:\n",
    "    # Visit the website for scraping\n",
    "    url = f\"https://www.basketball-reference.com/leagues/NBA_{season}_games.html\"\n",
    "    browser.visit(url)\n",
    "\n",
    "    # Create a BeautifulSoup object\n",
    "    html = browser.html\n",
    "    soup = BeautifulSoup(html, 'html.parser')\n",
    "\n",
    "    filter_div = soup.find('div', class_='filter')\n",
    "    links = filter_div.find_all('a')\n",
    "    urls = [link.get(\"href\") for link in links]"
   ]
  },
  {
   "cell_type": "code",
   "execution_count": 7,
   "id": "e3642187-9aba-46a4-81a8-d9d1228e87e4",
   "metadata": {},
   "outputs": [],
   "source": [
    "table = soup.find('table', id='schedule')\n",
    "\n",
    "links = table.find_all(\"a\")\n",
    "hrefs = [link.get('href') for link in links]\n",
    "box_scores = [link for link in hrefs if link and \"boxscore\" in link and \".html\" in link]\n",
    "box_scores = [f\"https://www.basketball-reference.com{score}\" for score in box_scores]"
   ]
  },
  {
   "cell_type": "code",
   "execution_count": 84,
   "id": "b78dac0b-fb06-4939-872e-3110b3b4803e",
   "metadata": {},
   "outputs": [],
   "source": [
    "box_score = box_scores[0]\n",
    "\n",
    "browser.visit(box_score)\n",
    "\n",
    "html=browser.html\n",
    "soup = BeautifulSoup(html, 'html.parser')"
   ]
  },
  {
   "cell_type": "code",
   "execution_count": 85,
   "id": "c252f249-8f33-474c-b9c8-a707a15b195a",
   "metadata": {},
   "outputs": [],
   "source": [
    "score_table = soup.find('table', id='line_score')\n",
    "tbody = score_table.find('tbody')\n",
    "rows = tbody.find_all('tr')\n",
    "\n",
    "line_score = []\n",
    "\n",
    "for row in rows:\n",
    "    # Get team name\n",
    "    team = row.find('th', class_='center').text\n",
    "    columns = row.find_all('td')\n",
    "    \n",
    "    # Create line score dictionary\n",
    "    if(columns !=[]):\n",
    "        total = columns[4].text\n",
    "    \n",
    "    # Create dictionary for dataframe later\n",
    "    line_score_dict = { \"team\": team,\n",
    "                        \"total\": total\n",
    "    }\n",
    "    \n",
    "    # Add dictionary to array\n",
    "    line_score.append(line_score_dict)"
   ]
  },
  {
   "cell_type": "code",
   "execution_count": 86,
   "id": "b911acf4-2c4d-42c3-9ff2-faca3fdcdb46",
   "metadata": {},
   "outputs": [
    {
     "data": {
      "text/html": [
       "<div>\n",
       "<style scoped>\n",
       "    .dataframe tbody tr th:only-of-type {\n",
       "        vertical-align: middle;\n",
       "    }\n",
       "\n",
       "    .dataframe tbody tr th {\n",
       "        vertical-align: top;\n",
       "    }\n",
       "\n",
       "    .dataframe thead th {\n",
       "        text-align: right;\n",
       "    }\n",
       "</style>\n",
       "<table border=\"1\" class=\"dataframe\">\n",
       "  <thead>\n",
       "    <tr style=\"text-align: right;\">\n",
       "      <th></th>\n",
       "      <th>team</th>\n",
       "      <th>total</th>\n",
       "    </tr>\n",
       "  </thead>\n",
       "  <tbody>\n",
       "    <tr>\n",
       "      <th>0</th>\n",
       "      <td>PHI</td>\n",
       "      <td>117</td>\n",
       "    </tr>\n",
       "    <tr>\n",
       "      <th>1</th>\n",
       "      <td>BOS</td>\n",
       "      <td>126</td>\n",
       "    </tr>\n",
       "  </tbody>\n",
       "</table>\n",
       "</div>"
      ],
      "text/plain": [
       "  team total\n",
       "0  PHI   117\n",
       "1  BOS   126"
      ]
     },
     "execution_count": 86,
     "metadata": {},
     "output_type": "execute_result"
    }
   ],
   "source": [
    "# Create Data frame\n",
    "import pandas as pd\n",
    "\n",
    "df = pd.DataFrame(line_score)\n",
    "df"
   ]
  },
  {
   "cell_type": "code",
   "execution_count": 121,
   "id": "359084c0-d200-4144-88fa-b450fc2a9a99",
   "metadata": {},
   "outputs": [],
   "source": [
    "# Get basic and advanced box scores\n",
    "teams = []\n",
    "for i in range(len(line_score)):\n",
    "    teams.append(line_score[i]['team'])"
   ]
  },
  {
   "cell_type": "code",
   "execution_count": 150,
   "id": "847afaf8-26ec-4405-b5e5-42da3a6a088f",
   "metadata": {},
   "outputs": [
    {
     "data": {
      "text/plain": [
       "[{'MP': '38:38'},\n",
       " {'MP': '38:34'},\n",
       " {'MP': '36:05'},\n",
       " {'MP': '24:02'},\n",
       " {'MP': '23:06'},\n",
       " {'MP': '23:06'},\n",
       " {'MP': '23:57'},\n",
       " {'MP': '23:52'},\n",
       " {'MP': '20:10'},\n",
       " {'MP': '8:17'},\n",
       " {'MP': '3:19'},\n",
       " {'MP': 'Did Not Play'},\n",
       " {'MP': 'Did Not Play'},\n",
       " {'MP': 'Did Not Play'},\n",
       " {'MP': 'Did Not Play'},\n",
       " {'MP': 'Did Not Play'}]"
      ]
     },
     "execution_count": 150,
     "metadata": {},
     "output_type": "execute_result"
    }
   ],
   "source": [
    "summaries = []\n",
    "basic = []\n",
    "advanced = []\n",
    "\n",
    "# add 'advanced' after\n",
    "stats = ['basic']\n",
    "for team in teams:\n",
    "    for stat in stats:\n",
    "        if stat == 'basic':\n",
    "            stat_table = soup.find('table', id=f\"box-{team}-game-{stat}\")\n",
    "            tbody = stat_table.find('tbody')\n",
    "            rows = tbody.find_all('tr')\n",
    "            basic = []\n",
    "\n",
    "            for row in rows:\n",
    "                columns = row.find_all('td')\n",
    "                # Create line score dictionary\n",
    "                if(columns !=[]):\n",
    "                    MP = columns[0].text\n",
    "                # Create dictionary for dataframe later\n",
    "                basic_dict = { \"MP\": MP,\n",
    "                }\n",
    "                # Add dictionary to array\n",
    "                basic.append(basic_dict)\n",
    "basic"
   ]
  },
  {
   "cell_type": "code",
   "execution_count": 149,
   "id": "86e5ceba-4fe6-4fcd-873b-9aaafd228cf4",
   "metadata": {},
   "outputs": [
    {
     "data": {
      "text/plain": [
       "[{'MP': '38:38'},\n",
       " {'MP': '38:34'},\n",
       " {'MP': '36:05'},\n",
       " {'MP': '24:02'},\n",
       " {'MP': '23:06'},\n",
       " {'MP': '23:06'},\n",
       " {'MP': '23:57'},\n",
       " {'MP': '23:52'},\n",
       " {'MP': '20:10'},\n",
       " {'MP': '8:17'},\n",
       " {'MP': '3:19'},\n",
       " {'MP': 'Did Not Play'},\n",
       " {'MP': 'Did Not Play'},\n",
       " {'MP': 'Did Not Play'},\n",
       " {'MP': 'Did Not Play'},\n",
       " {'MP': 'Did Not Play'}]"
      ]
     },
     "execution_count": 149,
     "metadata": {},
     "output_type": "execute_result"
    }
   ],
   "source": [
    "stat_table = soup.find('table', id=f\"box-{team}-game-{stat}\")\n",
    "tbody = stat_table.find('tbody')\n",
    "rows = tbody.find_all('tr')\n",
    "basic = []\n",
    "\n",
    "for row in rows:\n",
    "    columns = row.find_all('td')\n",
    "    # Create line score dictionary\n",
    "    if(columns !=[]):\n",
    "        MP = columns[0].text\n",
    "    # Create dictionary for dataframe later\n",
    "    basic_dict = { \"MP\": MP,\n",
    "    }\n",
    "    # Add dictionary to array\n",
    "    basic.append(basic_dict)\n",
    "basic"
   ]
  },
  {
   "cell_type": "code",
   "execution_count": 12,
   "id": "f09c6e7f-5975-4cbe-a43b-d6a2185a2c03",
   "metadata": {},
   "outputs": [],
   "source": [
    "# for url in box_scores:\n",
    "#     save_path = os.path.join(SCORES_DIR, url.split(\"/\")[-1])\n",
    "#     if os.path.exists(save_path):\n",
    "#         continue\n",
    "    \n",
    "#     browser.visit(url)\n",
    "#     # Get html from url links\n",
    "#     html = browser.html\n",
    "#     if html:\n",
    "#         soup = BeautifulSoup(html, \"html.parser\")\n",
    "#         content = soup.find('div', id='content')\n",
    "#         if conbasic_dict#             content_text = content.text\n",
    "       \n",
    "#         # Save to folder\n",
    "#         with open(save_path, \"w+\", encoding='utf-8') as f:\n",
    "#             f.write(content_text)"
   ]
  },
  {
   "cell_type": "code",
   "execution_count": 13,
   "id": "cbd8864a-1298-4549-af39-209b32170c16",
   "metadata": {},
   "outputs": [],
   "source": [
    "# standings_files"
   ]
  },
  {
   "cell_type": "code",
   "execution_count": 14,
   "id": "13a14085-65f6-4604-bf9a-1d94f03f97f3",
   "metadata": {},
   "outputs": [],
   "source": [
    "# files"
   ]
  },
  {
   "cell_type": "code",
   "execution_count": 15,
   "id": "60bd1529-46e4-49ca-932b-ae7335204aa9",
   "metadata": {},
   "outputs": [],
   "source": [
    "# DATA_DIR = \"data\"\n",
    "# STANDINGS_DIR = os.path.join(DATA_DIR, \"standings\")\n",
    "# SCORES_DIR = os.path.join(DATA_DIR, \"scores\")"
   ]
  },
  {
   "cell_type": "code",
   "execution_count": null,
   "id": "36898933-6e6d-4c1f-bb5a-95917149d6c0",
   "metadata": {},
   "outputs": [],
   "source": []
  },
  {
   "cell_type": "code",
   "execution_count": null,
   "id": "e5b0d2a5-139d-40f4-ac0c-22ce7689b934",
   "metadata": {},
   "outputs": [],
   "source": []
  },
  {
   "cell_type": "code",
   "execution_count": null,
   "id": "bb859915-8129-4624-942d-8e7f2db235c6",
   "metadata": {},
   "outputs": [],
   "source": []
  }
 ],
 "metadata": {
  "kernelspec": {
   "display_name": "Python 3 (ipykernel)",
   "language": "python",
   "name": "python3"
  },
  "language_info": {
   "codemirror_mode": {
    "name": "ipython",
    "version": 3
   },
   "file_extension": ".py",
   "mimetype": "text/x-python",
   "name": "python",
   "nbconvert_exporter": "python",
   "pygments_lexer": "ipython3",
   "version": "3.9.12"
  }
 },
 "nbformat": 4,
 "nbformat_minor": 5
}
