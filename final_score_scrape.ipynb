{
 "cells": [
  {
   "cell_type": "code",
   "execution_count": 1,
   "id": "f8c86f2e-21b1-43c2-850f-ee9334957edd",
   "metadata": {},
   "outputs": [],
   "source": [
    "# Import relevant libraries\n",
    "from splinter import Browser\n",
    "from bs4 import BeautifulSoup\n",
    "import os\n",
    "import pandas as pd"
   ]
  },
  {
   "cell_type": "code",
   "execution_count": 2,
   "id": "86441e7c-3fa9-41d1-aa2c-949b3ff6ce92",
   "metadata": {},
   "outputs": [],
   "source": [
    "DATA_DIR = \"data\"\n",
    "STANDINGS_DIR = os.path.join(DATA_DIR, \"standings\")\n",
    "SCORES_DIR = os.path.join(DATA_DIR, \"scores\")"
   ]
  },
  {
   "cell_type": "code",
   "execution_count": 3,
   "id": "9b4b9556-79cc-4b5a-82db-5f430cf3c752",
   "metadata": {},
   "outputs": [
    {
     "data": {
      "text/plain": [
       "[2021]"
      ]
     },
     "execution_count": 3,
     "metadata": {},
     "output_type": "execute_result"
    }
   ],
   "source": [
    "seasons = list(range(2021,2022))\n",
    "seasons"
   ]
  },
  {
   "cell_type": "code",
   "execution_count": 4,
   "id": "4f0e3967-173a-411e-af55-70d4735a1192",
   "metadata": {},
   "outputs": [],
   "source": [
    "# Set up the browser\n",
    "executable_path = {'executable_path':\"C:\\Program Files (x86)\\msedgedriver.exe\"}\n",
    "browser = Browser('edge', **executable_path)"
   ]
  },
  {
   "cell_type": "code",
   "execution_count": 5,
   "id": "eaf6ed24-4036-4c8e-9a23-0bf40e0e072f",
   "metadata": {},
   "outputs": [],
   "source": [
    "for season in seasons:\n",
    "    # Visit the website for scraping\n",
    "    url = f\"https://www.basketball-reference.com/leagues/NBA_{season}_games.html\"\n",
    "    browser.visit(url)\n",
    "\n",
    "    # Create a BeautifulSoup object\n",
    "    html = browser.html\n",
    "    soup = BeautifulSoup(html, 'html.parser')\n",
    "\n",
    "    filter_div = soup.find('div', class_='filter')\n",
    "    links = filter_div.find_all('a')\n",
    "    urls = [link.get(\"href\") for link in links]"
   ]
  },
  {
   "cell_type": "code",
   "execution_count": 6,
   "id": "e3642187-9aba-46a4-81a8-d9d1228e87e4",
   "metadata": {},
   "outputs": [],
   "source": [
    "table = soup.find('table', id='schedule')\n",
    "\n",
    "links = table.find_all(\"a\")\n",
    "hrefs = [link.get('href') for link in links]\n",
    "box_scores = [link for link in hrefs if link and \"boxscore\" in link and \".html\" in link]\n",
    "box_scores = [f\"https://www.basketball-reference.com{score}\" for score in box_scores]"
   ]
  },
  {
   "cell_type": "code",
   "execution_count": 7,
   "id": "b78dac0b-fb06-4939-872e-3110b3b4803e",
   "metadata": {},
   "outputs": [],
   "source": [
    "box_score = box_scores[0]\n",
    "browser.visit(box_score)\n",
    "\n",
    "html=browser.html\n",
    "soup = BeautifulSoup(html, 'html.parser')"
   ]
  },
  {
   "cell_type": "code",
   "execution_count": 190,
   "id": "c252f249-8f33-474c-b9c8-a707a15b195a",
   "metadata": {},
   "outputs": [
    {
     "data": {
      "text/html": [
       "<div>\n",
       "<style scoped>\n",
       "    .dataframe tbody tr th:only-of-type {\n",
       "        vertical-align: middle;\n",
       "    }\n",
       "\n",
       "    .dataframe tbody tr th {\n",
       "        vertical-align: top;\n",
       "    }\n",
       "\n",
       "    .dataframe thead th {\n",
       "        text-align: right;\n",
       "    }\n",
       "</style>\n",
       "<table border=\"1\" class=\"dataframe\">\n",
       "  <thead>\n",
       "    <tr style=\"text-align: right;\">\n",
       "      <th></th>\n",
       "      <th>team</th>\n",
       "      <th>total</th>\n",
       "    </tr>\n",
       "  </thead>\n",
       "  <tbody>\n",
       "    <tr>\n",
       "      <th>0</th>\n",
       "      <td>GSW</td>\n",
       "      <td>99</td>\n",
       "    </tr>\n",
       "    <tr>\n",
       "      <th>1</th>\n",
       "      <td>BRK</td>\n",
       "      <td>125</td>\n",
       "    </tr>\n",
       "  </tbody>\n",
       "</table>\n",
       "</div>"
      ],
      "text/plain": [
       "  team total\n",
       "0  GSW    99\n",
       "1  BRK   125"
      ]
     },
     "execution_count": 190,
     "metadata": {},
     "output_type": "execute_result"
    }
   ],
   "source": [
    "score_table = soup.find('table', id='line_score')\n",
    "tbody = score_table.find('tbody')\n",
    "rows = tbody.find_all('tr')\n",
    "\n",
    "line_score = []\n",
    "\n",
    "for row in rows:\n",
    "    # Get team name\n",
    "    team = row.find('th', class_='center').text\n",
    "    columns = row.find_all('td')\n",
    "    \n",
    "    # Create line score dictionary\n",
    "    if(columns !=[]):\n",
    "        total = columns[4].text\n",
    "    \n",
    "    # Create dictionary for dataframe later\n",
    "    line_score_dict = { \"team\": team,\n",
    "                        \"total\": total\n",
    "    }\n",
    "    \n",
    "    # Add dictionary to array\n",
    "    line_score.append(line_score_dict)\n",
    "    \n",
    "# Create Data frame\n",
    "score_df = pd.DataFrame(line_score)\n",
    "score_df"
   ]
  },
  {
   "cell_type": "code",
   "execution_count": 209,
   "id": "362478d6-851a-412e-b900-03a17639bb38",
   "metadata": {},
   "outputs": [],
   "source": [
    "def read_season_info(soup):\n",
    "    nav = soup.select('#bottom_nav_container')[0]\n",
    "    hrefs = [a[\"href\"] for a in nav.find_all(\"a\")]\n",
    "    season = hrefs[1].split(\"_\")[0]\n",
    "    return season"
   ]
  },
  {
   "cell_type": "code",
   "execution_count": 211,
   "id": "466b6e25-dcde-4e01-b446-268c513a0e0f",
   "metadata": {},
   "outputs": [
    {
     "data": {
      "text/plain": [
       "<div class=\"section_content\" id=\"bottom_nav_container\">\n",
       "<p><a href=\"/boxscores/\"><u>Dec 22, 2020 NBA Scores &amp; Boxes</u></a></p>\n",
       "<ul class=\"\">\n",
       "<li><a href=\"/teams/GSW/2021_games.html\"><u>Golden State Warriors Schedule</u></a></li>\n",
       "<li><a href=\"/teams/BRK/2021_games.html\"><u>Brooklyn Nets Schedule</u></a></li>\n",
       "<li><a href=\"/leagues/NBA_2021_games.html\"><u>2020-21 NBA Schedule &amp; Results</u></a></li>\n",
       "</ul></div>"
      ]
     },
     "execution_count": 211,
     "metadata": {},
     "output_type": "execute_result"
    }
   ],
   "source": [
    "soup.select('#bottom_nav_container')[0]"
   ]
  },
  {
   "cell_type": "code",
   "execution_count": 210,
   "id": "06221b46-48bf-4eff-af86-e6a5e1254ef1",
   "metadata": {},
   "outputs": [
    {
     "name": "stderr",
     "output_type": "stream",
     "text": [
      "C:\\Users\\User\\AppData\\Local\\Temp\\ipykernel_6288\\3500367345.py:34: FutureWarning: Dropping of nuisance columns in DataFrame reductions (with 'numeric_only=None') is deprecated; in a future version this will raise TypeError.  Select only valid columns before calling the reduction.\n",
      "  maxes = pd.concat([basic.iloc[:-1, :].max(), advanced.iloc[:-1, :].max()])\n",
      "C:\\Users\\User\\AppData\\Local\\Temp\\ipykernel_6288\\3500367345.py:34: FutureWarning: Dropping of nuisance columns in DataFrame reductions (with 'numeric_only=None') is deprecated; in a future version this will raise TypeError.  Select only valid columns before calling the reduction.\n",
      "  maxes = pd.concat([basic.iloc[:-1, :].max(), advanced.iloc[:-1, :].max()])\n"
     ]
    },
    {
     "ename": "AttributeError",
     "evalue": "'str' object has no attribute 'select'",
     "output_type": "error",
     "traceback": [
      "\u001b[1;31m---------------------------------------------------------------------------\u001b[0m",
      "\u001b[1;31mAttributeError\u001b[0m                            Traceback (most recent call last)",
      "Input \u001b[1;32mIn [210]\u001b[0m, in \u001b[0;36m<cell line: 56>\u001b[1;34m()\u001b[0m\n\u001b[0;32m     52\u001b[0m game_opp\u001b[38;5;241m.\u001b[39mcolumns \u001b[38;5;241m+\u001b[39m\u001b[38;5;241m=\u001b[39m \u001b[38;5;124m\"\u001b[39m\u001b[38;5;124m_opp\u001b[39m\u001b[38;5;124m\"\u001b[39m\n\u001b[0;32m     54\u001b[0m full_game \u001b[38;5;241m=\u001b[39m pd\u001b[38;5;241m.\u001b[39mconcat([game, game_opp], axis\u001b[38;5;241m=\u001b[39m\u001b[38;5;241m1\u001b[39m)\n\u001b[1;32m---> 56\u001b[0m full_game[\u001b[38;5;124m\"\u001b[39m\u001b[38;5;124mseason\u001b[39m\u001b[38;5;124m\"\u001b[39m] \u001b[38;5;241m=\u001b[39m \u001b[43mread_season_info\u001b[49m\u001b[43m(\u001b[49m\u001b[38;5;124;43m\"\u001b[39;49m\u001b[38;5;124;43msoup\u001b[39;49m\u001b[38;5;124;43m\"\u001b[39;49m\u001b[43m)\u001b[49m\n",
      "Input \u001b[1;32mIn [209]\u001b[0m, in \u001b[0;36mread_season_info\u001b[1;34m(soup)\u001b[0m\n\u001b[0;32m      1\u001b[0m \u001b[38;5;28;01mdef\u001b[39;00m \u001b[38;5;21mread_season_info\u001b[39m(soup):\n\u001b[1;32m----> 2\u001b[0m     nav \u001b[38;5;241m=\u001b[39m \u001b[43msoup\u001b[49m\u001b[38;5;241;43m.\u001b[39;49m\u001b[43mselect\u001b[49m(\u001b[38;5;124m'\u001b[39m\u001b[38;5;124m#bottom_nav_container\u001b[39m\u001b[38;5;124m'\u001b[39m)[\u001b[38;5;241m0\u001b[39m]\n\u001b[0;32m      3\u001b[0m     hrefs \u001b[38;5;241m=\u001b[39m [a[\u001b[38;5;124m\"\u001b[39m\u001b[38;5;124mhref\u001b[39m\u001b[38;5;124m\"\u001b[39m] \u001b[38;5;28;01mfor\u001b[39;00m a \u001b[38;5;129;01min\u001b[39;00m nav\u001b[38;5;241m.\u001b[39mfind_all(\u001b[38;5;124m\"\u001b[39m\u001b[38;5;124ma\u001b[39m\u001b[38;5;124m\"\u001b[39m)]\n\u001b[0;32m      4\u001b[0m     season \u001b[38;5;241m=\u001b[39m hrefs[\u001b[38;5;241m1\u001b[39m]\u001b[38;5;241m.\u001b[39msplit(\u001b[38;5;124m\"\u001b[39m\u001b[38;5;124m_\u001b[39m\u001b[38;5;124m\"\u001b[39m)[\u001b[38;5;241m0\u001b[39m]\n",
      "\u001b[1;31mAttributeError\u001b[0m: 'str' object has no attribute 'select'"
     ]
    }
   ],
   "source": [
    "base_cols = None\n",
    "\n",
    "# for box_score in box_scores\n",
    "teams = [score[\"team\"] for score in line_score]\n",
    "soup = BeautifulSoup(html, 'html.parser')\n",
    "\n",
    "\n",
    "summaries = []\n",
    "for team in teams:\n",
    "    # Convert html table into pandas dataframe\n",
    "    basic = pd.read_html(str(soup), attrs={\"id\": f\"box-{team}-game-basic\"}, index_col=0)[0]\n",
    "    advanced = pd.read_html(str(soup), attrs={\"id\": f\"box-{team}-game-advanced\"}, index_col=0)[0]\n",
    "\n",
    "    # Remove the row that contains heards within the dataframe\n",
    "    advanced = advanced.drop('Reserves')\n",
    "    basic = basic.drop('Reserves')\n",
    "    \n",
    "    # Get headers for basic and advanced stats\n",
    "    advanced_columns = []\n",
    "    basic_columns = []\n",
    "    for i in range(len(advanced.columns)):\n",
    "        advanced_columns.append(advanced.columns[i][1])\n",
    "\n",
    "    for i in range(len(basic.columns)):\n",
    "        basic_columns.append(basic.columns[i][1])\n",
    "\n",
    "    advanced.columns = advanced_columns\n",
    "    basic.columns = basic_columns\n",
    "    \n",
    "    # Totals and Maxes\n",
    "    totals = pd.concat([basic.iloc[-1, :], advanced.iloc[-1, :]])\n",
    "    totals.index = totals.index.str.lower()\n",
    "\n",
    "    maxes = pd.concat([basic.iloc[:-1, :].max(), advanced.iloc[:-1, :].max()])\n",
    "    maxes.index = maxes.index.str.lower() + \"_max\"\n",
    "    \n",
    "    summary = pd.concat([totals, maxes])\n",
    "    \n",
    "    if base_cols is None:\n",
    "        base_cols = list(summary.index.drop_duplicates(keep=\"first\"))\n",
    "        base_cols = [b for b in base_cols if \"bpm\" not in b]\n",
    "    \n",
    "    summary = summary[base_cols]\n",
    "    \n",
    "    summaries.append(summary)\n",
    "\n",
    "summary = pd.concat(summaries, axis=1).T\n",
    "game = pd.concat([summary, score_df], axis=1)\n",
    "game[\"home\"] = [0, 1]\n",
    "\n",
    "game_opp = game.iloc[::-1].reset_index()\n",
    "game_opp.columns += \"_opp\"\n",
    "\n",
    "full_game = pd.concat([game, game_opp], axis=1)\n",
    "\n",
    "full_game[\"season\"] = read_season_info(\"soup\")"
   ]
  },
  {
   "cell_type": "code",
   "execution_count": null,
   "id": "92b20ea5-cfda-44cc-a556-43adde2230ca",
   "metadata": {},
   "outputs": [],
   "source": [
    "full_game"
   ]
  },
  {
   "cell_type": "code",
   "execution_count": null,
   "id": "742c6ec3-0503-4b57-a885-1eba4165ff22",
   "metadata": {},
   "outputs": [],
   "source": []
  }
 ],
 "metadata": {
  "kernelspec": {
   "display_name": "Python 3 (ipykernel)",
   "language": "python",
   "name": "python3"
  },
  "language_info": {
   "codemirror_mode": {
    "name": "ipython",
    "version": 3
   },
   "file_extension": ".py",
   "mimetype": "text/x-python",
   "name": "python",
   "nbconvert_exporter": "python",
   "pygments_lexer": "ipython3",
   "version": "3.9.12"
  }
 },
 "nbformat": 4,
 "nbformat_minor": 5
}
