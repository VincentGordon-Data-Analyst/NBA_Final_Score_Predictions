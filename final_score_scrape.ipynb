{
 "cells": [
  {
   "cell_type": "code",
   "execution_count": 167,
   "id": "0cc6461d-e8c8-4942-8287-50fd55b3a6bd",
   "metadata": {},
   "outputs": [],
   "source": [
    "from selenium import webdriver\n",
    "import time\n",
    "from selenium.webdriver.support.ui import WebDriverWait\n",
    "from selenium.webdriver.support import expected_conditions as EC\n",
    "from selenium.webdriver.support.ui import Select\n",
    "from selenium.webdriver.common.by import By\n",
    "import os"
   ]
  },
  {
   "cell_type": "code",
   "execution_count": 168,
   "id": "60bd1529-46e4-49ca-932b-ae7335204aa9",
   "metadata": {},
   "outputs": [],
   "source": [
    "DATA_DIR = \"data\"\n",
    "STANDINGS_DIR = os.path.join(DATA_DIR, \"standings\")\n",
    "SCORES_DIR = os.path.join(DATA_DIR, \"scores\")"
   ]
  },
  {
   "cell_type": "code",
   "execution_count": 169,
   "id": "36898933-6e6d-4c1f-bb5a-95917149d6c0",
   "metadata": {},
   "outputs": [
    {
     "data": {
      "text/plain": [
       "[2020]"
      ]
     },
     "execution_count": 169,
     "metadata": {},
     "output_type": "execute_result"
    }
   ],
   "source": [
    "seasons = list(range(2020,2021))\n",
    "seasons"
   ]
  },
  {
   "cell_type": "code",
   "execution_count": 170,
   "id": "7aaac0f8-842f-4245-9578-48ddf45e3b02",
   "metadata": {},
   "outputs": [],
   "source": [
    "# Set up the Selenium WebDriver (make sure to have the appropriate webdriver installed)\n",
    "driver = webdriver.Edge(executable_path=r\"C:\\Program Files (x86)\\msedgedriver.exe\")\n",
    "for season in seasons:\n",
    "    url = f\"https://www.basketball-reference.com/leagues/NBA_{season}_games.html\"\n",
    "    driver.get(url)"
   ]
  },
  {
   "cell_type": "code",
   "execution_count": 171,
   "id": "d09fac1f-d746-4359-bbd8-c424f8eaa6aa",
   "metadata": {},
   "outputs": [],
   "source": [
    "# Find class containing months\n",
    "filter_div = driver.find_element_by_class_name(\"filter\")\n",
    "\n",
    "# Grab links for stats on each month\n",
    "links = filter_div.find_elements_by_tag_name(\"a\")\n",
    "urls = [link.get_attribute(\"href\") for link in links]"
   ]
  },
  {
   "cell_type": "code",
   "execution_count": 187,
   "id": "a4da4d13-f618-4ef4-a487-015c7bd1aa66",
   "metadata": {},
   "outputs": [],
   "source": [
    "for url in urls:\n",
    "    save_path = os.path.join(STANDINGS_DIR, url.split(\"/\")[-1])\n",
    "    if os.path.exists(save_path):\n",
    "        continue\n",
    "    \n",
    "    html = driver.find_element_by_id(\"schedule\").text\n",
    "    with open(save_path, \"w+\") as f:\n",
    "        f.write(html)\n"
   ]
  },
  {
   "cell_type": "code",
   "execution_count": 184,
   "id": "e2f88f74-d453-4afd-ad38-0aaac4bae230",
   "metadata": {},
   "outputs": [
    {
     "data": {
      "text/plain": [
       "['Tue, Oct 22, 2019 8:00p New Orleans Pelicans 122 Toronto Raptors 130 Box Score OT 20,787 Scotiabank Arena',\n",
       " 'Tue, Oct 22, 2019 10:30p Los Angeles Lakers 102 Los Angeles Clippers 112 Box Score 19,068 STAPLES Center',\n",
       " 'Wed, Oct 23, 2019 7:00p Chicago Bulls 125 Charlotte Hornets 126 Box Score 15,424 Spectrum Center',\n",
       " 'Wed, Oct 23, 2019 7:00p Detroit Pistons 119 Indiana Pacers 110 Box Score 17,923 Bankers Life Fieldhouse',\n",
       " 'Wed, Oct 23, 2019 7:00p Cleveland Cavaliers 85 Orlando Magic 94 Box Score 18,846 Amway Center',\n",
       " 'Wed, Oct 23, 2019 7:30p Minnesota Timberwolves 127 Brooklyn Nets 126 Box Score OT 17,732 Barclays Center',\n",
       " 'Wed, Oct 23, 2019 7:30p Memphis Grizzlies 101 Miami Heat 120 Box Score 19,600 AmericanAirlines Arena',\n",
       " 'Wed, Oct 23, 2019 7:30p Boston Celtics 93 Philadelphia 76ers 107 Box Score 20,422 Wells Fargo Center',\n",
       " 'Wed, Oct 23, 2019 8:30p Washington Wizards 100 Dallas Mavericks 108 Box Score 19,816 American Airlines Center',\n",
       " 'Wed, Oct 23, 2019 8:30p New York Knicks 111 San Antonio Spurs 120 Box Score 18,354 AT&T Center',\n",
       " 'Wed, Oct 23, 2019 9:00p Oklahoma City Thunder 95 Utah Jazz 100 Box Score 18,306 Vivint Smart Home Arena',\n",
       " 'Wed, Oct 23, 2019 10:00p Sacramento Kings 95 Phoenix Suns 124 Box Score 18,055 Talking Stick Resort Arena',\n",
       " 'Wed, Oct 23, 2019 10:00p Denver Nuggets 108 Portland Trail Blazers 100 Box Score 19,991 Moda Center',\n",
       " 'Thu, Oct 24, 2019 7:00p Atlanta Hawks 117 Detroit Pistons 100 Box Score 20,338 Little Caesars Arena',\n",
       " 'Thu, Oct 24, 2019 8:00p Milwaukee Bucks 117 Houston Rockets 111 Box Score 18,055 Toyota Center',\n",
       " 'Date Start (ET) Visitor/Neutral PTS Home/Neutral PTS     Attend. Arena Notes',\n",
       " 'Thu, Oct 24, 2019 10:30p Los Angeles Clippers 141 Golden State Warriors 122 Box Score 18,064 Chase Center',\n",
       " 'Fri, Oct 25, 2019 7:00p Toronto Raptors 106 Boston Celtics 112 Box Score 18,624 TD Garden',\n",
       " 'Fri, Oct 25, 2019 7:00p Minnesota Timberwolves 121 Charlotte Hornets 99 Box Score 14,879 Spectrum Center',\n",
       " 'Fri, Oct 25, 2019 7:30p New York Knicks 109 Brooklyn Nets 113 Box Score 17,732 Barclays Center',\n",
       " 'Fri, Oct 25, 2019 8:00p Chicago Bulls 110 Memphis Grizzlies 102 Box Score 17,794 FedEx Forum',\n",
       " 'Fri, Oct 25, 2019 8:00p Dallas Mavericks 123 New Orleans Pelicans 116 Box Score 17,027 Smoothie King Center',\n",
       " 'Fri, Oct 25, 2019 8:00p Washington Wizards 97 Oklahoma City Thunder 85 Box Score 18,203 Chesapeake Energy Arena',\n",
       " 'Fri, Oct 25, 2019 9:00p Phoenix Suns 107 Denver Nuggets 108 Box Score OT 19,557 Pepsi Center',\n",
       " 'Fri, Oct 25, 2019 10:00p Portland Trail Blazers 122 Sacramento Kings 112 Box Score 17,583 Golden 1 Center',\n",
       " 'Fri, Oct 25, 2019 10:30p Utah Jazz 86 Los Angeles Lakers 95 Box Score 18,997 STAPLES Center',\n",
       " 'Sat, Oct 26, 2019 5:00p Miami Heat 131 Milwaukee Bucks 126 Box Score OT 17,467 Fiserv Forum',\n",
       " 'Sat, Oct 26, 2019 7:00p Philadelphia 76ers 117 Detroit Pistons 111 Box Score 16,207 Little Caesars Arena',\n",
       " 'Sat, Oct 26, 2019 7:30p Orlando Magic 99 Atlanta Hawks 103 Box Score 17,078 State Farm Arena',\n",
       " 'Sat, Oct 26, 2019 7:30p Boston Celtics 118 New York Knicks 95 Box Score 19,812 Madison Square Garden (IV)',\n",
       " 'Sat, Oct 26, 2019 8:00p Toronto Raptors 108 Chicago Bulls 84 Box Score 21,498 United Center',\n",
       " 'Date Start (ET) Visitor/Neutral PTS Home/Neutral PTS     Attend. Arena Notes',\n",
       " 'Sat, Oct 26, 2019 8:00p Indiana Pacers 99 Cleveland Cavaliers 110 Box Score 19,432 Rocket Mortgage Fieldhouse',\n",
       " 'Sat, Oct 26, 2019 8:00p New Orleans Pelicans 123 Houston Rockets 126 Box Score 18,055 Toyota Center',\n",
       " 'Sat, Oct 26, 2019 8:30p Washington Wizards 122 San Antonio Spurs 124 Box Score 18,354 AT&T Center',\n",
       " 'Sat, Oct 26, 2019 9:00p Sacramento Kings 81 Utah Jazz 113 Box Score 18,306 Vivint Smart Home Arena',\n",
       " 'Sat, Oct 26, 2019 10:00p Los Angeles Clippers 122 Phoenix Suns 130 Box Score 15,802 Talking Stick Resort Arena',\n",
       " 'Sun, Oct 27, 2019 3:30p Golden State Warriors 92 Oklahoma City Thunder 120 Box Score 18,203 Chesapeake Energy Arena',\n",
       " 'Sun, Oct 27, 2019 6:00p Brooklyn Nets 133 Memphis Grizzlies 134 Box Score OT 15,517 FedEx Forum',\n",
       " 'Sun, Oct 27, 2019 7:00p Portland Trail Blazers 121 Dallas Mavericks 119 Box Score 19,707 American Airlines Center',\n",
       " 'Sun, Oct 27, 2019 7:00p Miami Heat 109 Minnesota Timberwolves 116 Box Score 17,049 Target Center',\n",
       " 'Sun, Oct 27, 2019 9:30p Charlotte Hornets 101 Los Angeles Lakers 120 Box Score 18,997 STAPLES Center',\n",
       " 'Mon, Oct 28, 2019 7:00p Chicago Bulls 98 New York Knicks 105 Box Score 19,812 Madison Square Garden (IV)',\n",
       " 'Mon, Oct 28, 2019 7:00p Indiana Pacers 94 Detroit Pistons 96 Box Score 13,565 Little Caesars Arena',\n",
       " 'Mon, Oct 28, 2019 7:30p Orlando Magic 95 Toronto Raptors 104 Box Score 19,800 Scotiabank Arena',\n",
       " 'Mon, Oct 28, 2019 7:30p Philadelphia 76ers 105 Atlanta Hawks 103 Box Score 14,094 State Farm Arena',\n",
       " 'Mon, Oct 28, 2019 8:00p Oklahoma City Thunder 112 Houston Rockets 116 Box Score 18,055 Toyota Center',\n",
       " 'Date Start (ET) Visitor/Neutral PTS Home/Neutral PTS     Attend. Arena Notes',\n",
       " 'Mon, Oct 28, 2019 8:00p Cleveland Cavaliers 112 Milwaukee Bucks 129 Box Score 17,385 Fiserv Forum',\n",
       " 'Mon, Oct 28, 2019 8:00p Golden State Warriors 134 New Orleans Pelicans 123 Box Score 17,307 Smoothie King Center',\n",
       " 'Mon, Oct 28, 2019 8:30p Portland Trail Blazers 110 San Antonio Spurs 113 Box Score 18,083 AT&T Center',\n",
       " 'Mon, Oct 28, 2019 10:00p Utah Jazz 96 Phoenix Suns 95 Box Score 14,805 Talking Stick Resort Arena',\n",
       " 'Mon, Oct 28, 2019 10:00p Denver Nuggets 101 Sacramento Kings 94 Box Score 15,870 Golden 1 Center',\n",
       " 'Mon, Oct 28, 2019 10:30p Charlotte Hornets 96 Los Angeles Clippers 111 Box Score 19,068 STAPLES Center',\n",
       " 'Tue, Oct 29, 2019 7:30p Atlanta Hawks 97 Miami Heat 112 Box Score 19,600 AmericanAirlines Arena',\n",
       " 'Tue, Oct 29, 2019 9:00p Dallas Mavericks 109 Denver Nuggets 106 Box Score 16,605 Pepsi Center',\n",
       " 'Tue, Oct 29, 2019 10:30p Memphis Grizzlies 91 Los Angeles Lakers 120 Box Score 18,997 STAPLES Center',\n",
       " 'Wed, Oct 30, 2019 7:00p Chicago Bulls 111 Cleveland Cavaliers 117 Box Score 17,595 Rocket Mortgage Fieldhouse',\n",
       " 'Wed, Oct 30, 2019 7:00p New York Knicks 83 Orlando Magic 95 Box Score 17,456 Amway Center',\n",
       " 'Wed, Oct 30, 2019 7:00p Minnesota Timberwolves 95 Philadelphia 76ers 117 Box Score 20,204 Wells Fargo Center',\n",
       " 'Wed, Oct 30, 2019 7:30p Milwaukee Bucks 105 Boston Celtics 116 Box Score 18,624 TD Garden',\n",
       " 'Wed, Oct 30, 2019 7:30p Indiana Pacers 118 Brooklyn Nets 108 Box Score 17,083 Barclays Center',\n",
       " 'Wed, Oct 30, 2019 7:30p Detroit Pistons 113 Toronto Raptors 125 Box Score 19,800 Scotiabank Arena',\n",
       " 'Date Start (ET) Visitor/Neutral PTS Home/Neutral PTS     Attend. Arena Notes',\n",
       " 'Wed, Oct 30, 2019 8:00p Portland Trail Blazers 102 Oklahoma City Thunder 99 Box Score 18,203 Chesapeake Energy Arena',\n",
       " 'Wed, Oct 30, 2019 8:00p Houston Rockets 159 Washington Wizards 158 Box Score 20,476 Capital One Arena',\n",
       " 'Wed, Oct 30, 2019 10:00p Charlotte Hornets 118 Sacramento Kings 111 Box Score 15,416 Golden 1 Center',\n",
       " 'Wed, Oct 30, 2019 10:00p Los Angeles Clippers 96 Utah Jazz 110 Box Score 18,306 Vivint Smart Home Arena',\n",
       " 'Wed, Oct 30, 2019 10:30p Phoenix Suns 121 Golden State Warriors 110 Box Score 18,064 Chase Center',\n",
       " 'Thu, Oct 31, 2019 7:00p Miami Heat 106 Atlanta Hawks 97 Box Score 16,539 State Farm Arena',\n",
       " 'Thu, Oct 31, 2019 9:30p Denver Nuggets 107 New Orleans Pelicans 122 Box Score 16,613 Smoothie King Center',\n",
       " 'Thu, Oct 31, 2019 10:30p San Antonio Spurs 97 Los Angeles Clippers 103 Box Score 19,068 STAPLES Center']"
      ]
     },
     "execution_count": 184,
     "metadata": {},
     "output_type": "execute_result"
    }
   ],
   "source": [
    "html = driver.find_element_by_id(\"schedule\")\n",
    "table_body = html.find_element_by_xpath('//*[@id=\"schedule\"]/tbody').text.split(\"\\n\")\n",
    "table_body"
   ]
  },
  {
   "cell_type": "code",
   "execution_count": null,
   "id": "d1fb705c-a4d0-4ada-9753-4ff4d3549040",
   "metadata": {},
   "outputs": [],
   "source": []
  }
 ],
 "metadata": {
  "kernelspec": {
   "display_name": "Python 3 (ipykernel)",
   "language": "python",
   "name": "python3"
  },
  "language_info": {
   "codemirror_mode": {
    "name": "ipython",
    "version": 3
   },
   "file_extension": ".py",
   "mimetype": "text/x-python",
   "name": "python",
   "nbconvert_exporter": "python",
   "pygments_lexer": "ipython3",
   "version": "3.9.12"
  }
 },
 "nbformat": 4,
 "nbformat_minor": 5
}
