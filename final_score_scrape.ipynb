{
 "cells": [
  {
   "cell_type": "code",
   "execution_count": 520,
   "id": "0cc6461d-e8c8-4942-8287-50fd55b3a6bd",
   "metadata": {},
   "outputs": [],
   "source": [
    "# from selenium import webdriver\n",
    "# import time\n",
    "# from selenium.webdriver.support.ui import WebDriverWait\n",
    "# from selenium.webdriver.support import expected_conditions as EC\n",
    "# from selenium.webdriver.support.ui import Select\n",
    "# from selenium.webdriver.common.by import By\n",
    "# import os"
   ]
  },
  {
   "cell_type": "code",
   "execution_count": 521,
   "id": "f8c86f2e-21b1-43c2-850f-ee9334957edd",
   "metadata": {},
   "outputs": [],
   "source": [
    "# Import relevant libraries\n",
    "from splinter import Browser\n",
    "from bs4 import BeautifulSoup\n",
    "import os"
   ]
  },
  {
   "cell_type": "code",
   "execution_count": 522,
   "id": "86441e7c-3fa9-41d1-aa2c-949b3ff6ce92",
   "metadata": {},
   "outputs": [],
   "source": [
    "DATA_DIR = \"data\"\n",
    "STANDINGS_DIR = os.path.join(DATA_DIR, \"standings\")\n",
    "SCORES_DIR = os.path.join(DATA_DIR, \"scores\")"
   ]
  },
  {
   "cell_type": "code",
   "execution_count": 533,
   "id": "9b4b9556-79cc-4b5a-82db-5f430cf3c752",
   "metadata": {},
   "outputs": [
    {
     "data": {
      "text/plain": [
       "[2019, 2020]"
      ]
     },
     "execution_count": 533,
     "metadata": {},
     "output_type": "execute_result"
    }
   ],
   "source": [
    "seasons = list(range(2019,2021))\n",
    "seasons"
   ]
  },
  {
   "cell_type": "code",
   "execution_count": 524,
   "id": "4f0e3967-173a-411e-af55-70d4735a1192",
   "metadata": {},
   "outputs": [],
   "source": [
    "# Set up the browser\n",
    "executable_path = {'executable_path':\"C:\\Program Files (x86)\\msedgedriver.exe\"}\n",
    "browser = Browser('edge', **executable_path)"
   ]
  },
  {
   "cell_type": "code",
   "execution_count": 525,
   "id": "eaf6ed24-4036-4c8e-9a23-0bf40e0e072f",
   "metadata": {},
   "outputs": [],
   "source": [
    "for season in seasons:\n",
    "    # Visit the website for scraping\n",
    "    url = f\"https://www.basketball-reference.com/leagues/NBA_{season}_games.html\"\n",
    "    browser.visit(url)\n",
    "\n",
    "    # Create a BeautifulSoup object\n",
    "    html = browser.html\n",
    "    soup = BeautifulSoup(html, 'html.parser')\n",
    "\n",
    "    filter_div = soup.find('div', class_='filter')\n",
    "    links = filter_div.find_all('a')\n",
    "    urls = [link.get(\"href\") for link in links]"
   ]
  },
  {
   "cell_type": "code",
   "execution_count": 526,
   "id": "e3642187-9aba-46a4-81a8-d9d1228e87e4",
   "metadata": {},
   "outputs": [],
   "source": [
    "table = soup.find('table', id='schedule')\n",
    "\n",
    "links = table.find_all(\"a\")\n",
    "hrefs = [link.get('href') for link in links]\n",
    "box_scores = [link for link in hrefs if link and \"boxscore\" in link and \".html\" in link]\n",
    "box_scores = [f\"https://www.basketball-reference.com{score}\" for score in box_scores]"
   ]
  },
  {
   "cell_type": "code",
   "execution_count": 531,
   "id": "f09c6e7f-5975-4cbe-a43b-d6a2185a2c03",
   "metadata": {},
   "outputs": [],
   "source": [
    "for url in box_scores:\n",
    "    save_path = os.path.join(SCORES_DIR, url.split(\"/\")[-1])\n",
    "    if os.path.exists(save_path):\n",
    "        continue\n",
    "    \n",
    "    browser.visit(url)\n",
    "    # Get html from url links\n",
    "    html = browser.html\n",
    "    if html:\n",
    "        soup = BeautifulSoup(html, \"html.parser\")\n",
    "        content = soup.find('div', id='content')\n",
    "        if content:\n",
    "            content_text = content.text\n",
    "       \n",
    "        # Save to folder\n",
    "        with open(save_path, \"w+\", encoding='utf-8') as f:\n",
    "            f.write(content_text)"
   ]
  },
  {
   "cell_type": "code",
   "execution_count": 541,
   "id": "cbd8864a-1298-4549-af39-209b32170c16",
   "metadata": {},
   "outputs": [
    {
     "data": {
      "text/plain": [
       "['.ipynb_checkpoints',\n",
       " 'NBA_2019_games-april.html',\n",
       " 'NBA_2019_games-december.html',\n",
       " 'NBA_2019_games-february.html',\n",
       " 'NBA_2019_games-january.html',\n",
       " 'NBA_2019_games-june.html',\n",
       " 'NBA_2019_games-march.html',\n",
       " 'NBA_2019_games-may.html',\n",
       " 'NBA_2019_games-november.html',\n",
       " 'NBA_2019_games-october.html',\n",
       " 'NBA_2020_games-august.html',\n",
       " 'NBA_2020_games-december.html',\n",
       " 'NBA_2020_games-february.html',\n",
       " 'NBA_2020_games-january.html',\n",
       " 'NBA_2020_games-july.html',\n",
       " 'NBA_2020_games-march.html',\n",
       " 'NBA_2020_games-november.html',\n",
       " 'NBA_2020_games-october.html',\n",
       " 'NBA_2020_games-september.html',\n",
       " 'NBA_2021_games-april.html',\n",
       " 'NBA_2021_games-december.html',\n",
       " 'NBA_2021_games-february.html',\n",
       " 'NBA_2021_games-january.html',\n",
       " 'NBA_2021_games-july.html',\n",
       " 'NBA_2021_games-june.html',\n",
       " 'NBA_2021_games-march.html',\n",
       " 'NBA_2021_games-may.html',\n",
       " 'NBA_2022_games-april.html',\n",
       " 'NBA_2022_games-december.html',\n",
       " 'NBA_2022_games-february.html',\n",
       " 'NBA_2022_games-january.html',\n",
       " 'NBA_2022_games-june.html',\n",
       " 'NBA_2022_games-march.html',\n",
       " 'NBA_2022_games-may.html',\n",
       " 'NBA_2022_games-november.html',\n",
       " 'NBA_2022_games-october.html',\n",
       " 'NBA_2023_games-april.html',\n",
       " 'NBA_2023_games-december.html',\n",
       " 'NBA_2023_games-february.html',\n",
       " 'NBA_2023_games-january.html',\n",
       " 'NBA_2023_games-june.html',\n",
       " 'NBA_2023_games-march.html',\n",
       " 'NBA_2023_games-may.html',\n",
       " 'NBA_2023_games-november.html',\n",
       " 'NBA_2023_games-october.html']"
      ]
     },
     "execution_count": 541,
     "metadata": {},
     "output_type": "execute_result"
    }
   ],
   "source": [
    "standings_files"
   ]
  },
  {
   "cell_type": "code",
   "execution_count": 538,
   "id": "13a14085-65f6-4604-bf9a-1d94f03f97f3",
   "metadata": {},
   "outputs": [
    {
     "data": {
      "text/plain": [
       "[]"
      ]
     },
     "execution_count": 538,
     "metadata": {},
     "output_type": "execute_result"
    }
   ],
   "source": [
    "files"
   ]
  },
  {
   "cell_type": "code",
   "execution_count": 528,
   "id": "60bd1529-46e4-49ca-932b-ae7335204aa9",
   "metadata": {},
   "outputs": [],
   "source": [
    "# DATA_DIR = \"data\"\n",
    "# STANDINGS_DIR = os.path.join(DATA_DIR, \"standings\")\n",
    "# SCORES_DIR = os.path.join(DATA_DIR, \"scores\")"
   ]
  },
  {
   "cell_type": "code",
   "execution_count": null,
   "id": "36898933-6e6d-4c1f-bb5a-95917149d6c0",
   "metadata": {},
   "outputs": [],
   "source": []
  },
  {
   "cell_type": "code",
   "execution_count": null,
   "id": "e5b0d2a5-139d-40f4-ac0c-22ce7689b934",
   "metadata": {},
   "outputs": [],
   "source": []
  },
  {
   "cell_type": "code",
   "execution_count": null,
   "id": "bb859915-8129-4624-942d-8e7f2db235c6",
   "metadata": {},
   "outputs": [],
   "source": []
  }
 ],
 "metadata": {
  "kernelspec": {
   "display_name": "Python 3 (ipykernel)",
   "language": "python",
   "name": "python3"
  },
  "language_info": {
   "codemirror_mode": {
    "name": "ipython",
    "version": 3
   },
   "file_extension": ".py",
   "mimetype": "text/x-python",
   "name": "python",
   "nbconvert_exporter": "python",
   "pygments_lexer": "ipython3",
   "version": "3.9.12"
  }
 },
 "nbformat": 4,
 "nbformat_minor": 5
}
