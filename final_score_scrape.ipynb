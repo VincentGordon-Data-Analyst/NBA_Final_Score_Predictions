{
 "cells": [
  {
   "cell_type": "code",
   "execution_count": 7,
   "id": "0cc6461d-e8c8-4942-8287-50fd55b3a6bd",
   "metadata": {},
   "outputs": [],
   "source": [
    "    # from selenium import webdriver\n",
    "# import time\n",
    "# from selenium.webdriver.support.ui import WebDriverWait\n",
    "# from selenium.webdriver.support import expected_conditions as EC\n",
    "# from selenium.webdriver.support.ui import Select\n",
    "# from selenium.webdriver.common.by import By\n",
    "# import os"
   ]
  },
  {
   "cell_type": "code",
   "execution_count": 8,
   "id": "f8c86f2e-21b1-43c2-850f-ee9334957edd",
   "metadata": {},
   "outputs": [],
   "source": [
    "# Import relevant libraries\n",
    "from splinter import Browser\n",
    "from bs4 import BeautifulSoup\n",
    "import os\n",
    "import pandas as pd"
   ]
  },
  {
   "cell_type": "code",
   "execution_count": 9,
   "id": "86441e7c-3fa9-41d1-aa2c-949b3ff6ce92",
   "metadata": {},
   "outputs": [],
   "source": [
    "DATA_DIR = \"data\"\n",
    "STANDINGS_DIR = os.path.join(DATA_DIR, \"standings\")\n",
    "SCORES_DIR = os.path.join(DATA_DIR, \"scores\")"
   ]
  },
  {
   "cell_type": "code",
   "execution_count": 10,
   "id": "9b4b9556-79cc-4b5a-82db-5f430cf3c752",
   "metadata": {},
   "outputs": [
    {
     "data": {
      "text/plain": [
       "[2021]"
      ]
     },
     "execution_count": 10,
     "metadata": {},
     "output_type": "execute_result"
    }
   ],
   "source": [
    "seasons = list(range(2021,2022))\n",
    "seasons"
   ]
  },
  {
   "cell_type": "code",
   "execution_count": 11,
   "id": "4f0e3967-173a-411e-af55-70d4735a1192",
   "metadata": {},
   "outputs": [],
   "source": [
    "# Set up the browser\n",
    "executable_path = {'executable_path':\"C:\\Program Files (x86)\\msedgedriver.exe\"}\n",
    "browser = Browser('edge', **executable_path)"
   ]
  },
  {
   "cell_type": "code",
   "execution_count": 12,
   "id": "eaf6ed24-4036-4c8e-9a23-0bf40e0e072f",
   "metadata": {},
   "outputs": [],
   "source": [
    "for season in seasons:\n",
    "    # Visit the website for scraping\n",
    "    url = f\"https://www.basketball-reference.com/leagues/NBA_{season}_games.html\"\n",
    "    browser.visit(url)\n",
    "\n",
    "    # Create a BeautifulSoup object\n",
    "    html = browser.html\n",
    "    soup = BeautifulSoup(html, 'html.parser')\n",
    "\n",
    "    filter_div = soup.find('div', class_='filter')\n",
    "    links = filter_div.find_all('a')\n",
    "    urls = [link.get(\"href\") for link in links]"
   ]
  },
  {
   "cell_type": "code",
   "execution_count": 13,
   "id": "e3642187-9aba-46a4-81a8-d9d1228e87e4",
   "metadata": {},
   "outputs": [],
   "source": [
    "table = soup.find('table', id='schedule')\n",
    "\n",
    "links = table.find_all(\"a\")\n",
    "hrefs = [link.get('href') for link in links]\n",
    "box_scores = [link for link in hrefs if link and \"boxscore\" in link and \".html\" in link]\n",
    "box_scores = [f\"https://www.basketball-reference.com{score}\" for score in box_scores]"
   ]
  },
  {
   "cell_type": "code",
   "execution_count": 14,
   "id": "b78dac0b-fb06-4939-872e-3110b3b4803e",
   "metadata": {},
   "outputs": [],
   "source": [
    "box_score = box_scores[0]\n",
    "\n",
    "browser.visit(box_score)\n",
    "\n",
    "html=browser.html\n",
    "soup = BeautifulSoup(html, 'html.parser')"
   ]
  },
  {
   "cell_type": "code",
   "execution_count": 15,
   "id": "c252f249-8f33-474c-b9c8-a707a15b195a",
   "metadata": {},
   "outputs": [],
   "source": [
    "score_table = soup.find('table', id='line_score')\n",
    "tbody = score_table.find('tbody')\n",
    "rows = tbody.find_all('tr')\n",
    "\n",
    "line_score = []\n",
    "\n",
    "for row in rows:\n",
    "    # Get team name\n",
    "    team = row.find('th', class_='center').text\n",
    "    columns = row.find_all('td')\n",
    "    \n",
    "    # Create line score dictionary\n",
    "    if(columns !=[]):\n",
    "        total = columns[4].text\n",
    "    \n",
    "    # Create dictionary for dataframe later\n",
    "    line_score_dict = { \"team\": team,\n",
    "                        \"total\": total\n",
    "    }\n",
    "    \n",
    "    # Add dictionary to array\n",
    "    line_score.append(line_score_dict)"
   ]
  },
  {
   "cell_type": "code",
   "execution_count": 16,
   "id": "b911acf4-2c4d-42c3-9ff2-faca3fdcdb46",
   "metadata": {},
   "outputs": [
    {
     "data": {
      "text/html": [
       "<div>\n",
       "<style scoped>\n",
       "    .dataframe tbody tr th:only-of-type {\n",
       "        vertical-align: middle;\n",
       "    }\n",
       "\n",
       "    .dataframe tbody tr th {\n",
       "        vertical-align: top;\n",
       "    }\n",
       "\n",
       "    .dataframe thead th {\n",
       "        text-align: right;\n",
       "    }\n",
       "</style>\n",
       "<table border=\"1\" class=\"dataframe\">\n",
       "  <thead>\n",
       "    <tr style=\"text-align: right;\">\n",
       "      <th></th>\n",
       "      <th>team</th>\n",
       "      <th>total</th>\n",
       "    </tr>\n",
       "  </thead>\n",
       "  <tbody>\n",
       "    <tr>\n",
       "      <th>0</th>\n",
       "      <td>GSW</td>\n",
       "      <td>99</td>\n",
       "    </tr>\n",
       "    <tr>\n",
       "      <th>1</th>\n",
       "      <td>BRK</td>\n",
       "      <td>125</td>\n",
       "    </tr>\n",
       "  </tbody>\n",
       "</table>\n",
       "</div>"
      ],
      "text/plain": [
       "  team total\n",
       "0  GSW    99\n",
       "1  BRK   125"
      ]
     },
     "execution_count": 16,
     "metadata": {},
     "output_type": "execute_result"
    }
   ],
   "source": [
    "# Create Data frame\n",
    "df = pd.DataFrame(line_score)\n",
    "df"
   ]
  },
  {
   "cell_type": "code",
   "execution_count": 17,
   "id": "359084c0-d200-4144-88fa-b450fc2a9a99",
   "metadata": {},
   "outputs": [
    {
     "data": {
      "text/plain": [
       "['GSW', 'BRK']"
      ]
     },
     "execution_count": 17,
     "metadata": {},
     "output_type": "execute_result"
    }
   ],
   "source": [
    "# Get basic and advanced box scores\n",
    "teams = []\n",
    "for i in range(len(line_score)):\n",
    "    teams.append(line_score[i]['team'])\n",
    "teams"
   ]
  },
  {
   "cell_type": "code",
   "execution_count": 27,
   "id": "c9359012-d413-4153-aaf3-fe98ddec9ac2",
   "metadata": {},
   "outputs": [],
   "source": [
    "stats = ['basic', 'advanced']\n",
    "home_team_tables = {'basic': [], 'advanced': []}\n",
    "away_team_tables = {'basic': [], 'advanced': []}\n",
    "\n",
    "for team in teams:\n",
    "    for stat in stats:\n",
    "        stat_table = soup.find('table', id=f\"box-{team}-game-{stat}\")\n",
    "        table_data = []\n",
    "        if stat_table:\n",
    "            for row in stat_table.find_all('tr'):\n",
    "                row_data = [cell.get_text() for cell in row.find_all(['th', 'td'])]\n",
    "                table_data.append(row_data)\n",
    "                \n",
    "        # Store table data on the type of stat team\n",
    "        if team == teams[0]:\n",
    "            home_team_tables[stat].extend(table_data)\n",
    "        elif team == teams[1]:\n",
    "            away_team_tables[stat].extend(table_data)"
   ]
  },
  {
   "cell_type": "code",
   "execution_count": 146,
   "id": "eb747704-50b2-4c1d-895a-d17b7f5c3c4b",
   "metadata": {
    "scrolled": true,
    "tags": []
   },
   "outputs": [],
   "source": [
    "home_advanced = pd.DataFrame(home_team_tables['advanced']).dropna().drop(index=7)\n",
    "home_basic = pd.DataFrame(home_team_tables['basic']).dropna().drop(index=7)\n",
    "away_advanced = pd.DataFrame(away_team_tables['advanced']).dropna().drop(index=7)\n",
    "away_basic = pd.DataFrame(away_team_tables['basic']).dropna().drop(index=7)"
   ]
  },
  {
   "cell_type": "code",
   "execution_count": 147,
   "id": "21ac09db-3908-4185-8ceb-e2670744413f",
   "metadata": {},
   "outputs": [],
   "source": [
    "# Use first row as headers\n",
    "advanced_headers = home_advanced.iloc[0]\n",
    "basic_headers = home_basic.iloc[0]\n",
    "\n",
    "\n",
    "# Set headers\n",
    "home_advanced.rename(columns=advanced_headers, inplace=True)\n",
    "away_advanced.rename(columns=advanced_headers, inplace=True)\n",
    "\n",
    "home_basic.rename(columns=basic_headers, inplace=True)\n",
    "away_basic.rename(columns=basic_headers, inplace=True)\n",
    "\n",
    "home_advanced = home_advanced.drop(index=1).reset_index(drop=True)\n",
    "away_advanced = away_advanced.drop(index=1).reset_index(drop=True)\n",
    "home_basic = home_basic.drop(index=1).reset_index(drop=True)\n",
    "home_advanced = home_advanced.drop(index=1).reset_index(drop=True)"
   ]
  },
  {
   "cell_type": "code",
   "execution_count": 151,
   "id": "f17541dd-efba-48f6-b3bf-82cf3c3d4cf4",
   "metadata": {},
   "outputs": [
    {
     "data": {
      "text/html": [
       "<div>\n",
       "<style scoped>\n",
       "    .dataframe tbody tr th:only-of-type {\n",
       "        vertical-align: middle;\n",
       "    }\n",
       "\n",
       "    .dataframe tbody tr th {\n",
       "        vertical-align: top;\n",
       "    }\n",
       "\n",
       "    .dataframe thead th {\n",
       "        text-align: right;\n",
       "    }\n",
       "</style>\n",
       "<table border=\"1\" class=\"dataframe\">\n",
       "  <thead>\n",
       "    <tr style=\"text-align: right;\">\n",
       "      <th></th>\n",
       "      <th>Starters</th>\n",
       "      <th>MP</th>\n",
       "      <th>FG</th>\n",
       "      <th>FGA</th>\n",
       "      <th>FG%</th>\n",
       "      <th>3P</th>\n",
       "      <th>3PA</th>\n",
       "      <th>3P%</th>\n",
       "      <th>FT</th>\n",
       "      <th>FTA</th>\n",
       "      <th>...</th>\n",
       "      <th>ORB</th>\n",
       "      <th>DRB</th>\n",
       "      <th>TRB</th>\n",
       "      <th>AST</th>\n",
       "      <th>STL</th>\n",
       "      <th>BLK</th>\n",
       "      <th>TOV</th>\n",
       "      <th>PF</th>\n",
       "      <th>PTS</th>\n",
       "      <th>+/-</th>\n",
       "    </tr>\n",
       "  </thead>\n",
       "  <tbody>\n",
       "    <tr>\n",
       "      <th>1</th>\n",
       "      <td>Starters</td>\n",
       "      <td>MP</td>\n",
       "      <td>FG</td>\n",
       "      <td>FGA</td>\n",
       "      <td>FG%</td>\n",
       "      <td>3P</td>\n",
       "      <td>3PA</td>\n",
       "      <td>3P%</td>\n",
       "      <td>FT</td>\n",
       "      <td>FTA</td>\n",
       "      <td>...</td>\n",
       "      <td>ORB</td>\n",
       "      <td>DRB</td>\n",
       "      <td>TRB</td>\n",
       "      <td>AST</td>\n",
       "      <td>STL</td>\n",
       "      <td>BLK</td>\n",
       "      <td>TOV</td>\n",
       "      <td>PF</td>\n",
       "      <td>PTS</td>\n",
       "      <td>+/-</td>\n",
       "    </tr>\n",
       "    <tr>\n",
       "      <th>2</th>\n",
       "      <td>Kyrie Irving</td>\n",
       "      <td>25:18</td>\n",
       "      <td>10</td>\n",
       "      <td>16</td>\n",
       "      <td>.625</td>\n",
       "      <td>4</td>\n",
       "      <td>7</td>\n",
       "      <td>.571</td>\n",
       "      <td>2</td>\n",
       "      <td>2</td>\n",
       "      <td>...</td>\n",
       "      <td>1</td>\n",
       "      <td>3</td>\n",
       "      <td>4</td>\n",
       "      <td>4</td>\n",
       "      <td>0</td>\n",
       "      <td>0</td>\n",
       "      <td>1</td>\n",
       "      <td>3</td>\n",
       "      <td>26</td>\n",
       "      <td>+32</td>\n",
       "    </tr>\n",
       "    <tr>\n",
       "      <th>3</th>\n",
       "      <td>Kevin Durant</td>\n",
       "      <td>24:56</td>\n",
       "      <td>7</td>\n",
       "      <td>16</td>\n",
       "      <td>.438</td>\n",
       "      <td>1</td>\n",
       "      <td>2</td>\n",
       "      <td>.500</td>\n",
       "      <td>7</td>\n",
       "      <td>7</td>\n",
       "      <td>...</td>\n",
       "      <td>1</td>\n",
       "      <td>4</td>\n",
       "      <td>5</td>\n",
       "      <td>3</td>\n",
       "      <td>3</td>\n",
       "      <td>1</td>\n",
       "      <td>1</td>\n",
       "      <td>3</td>\n",
       "      <td>22</td>\n",
       "      <td>+26</td>\n",
       "    </tr>\n",
       "    <tr>\n",
       "      <th>4</th>\n",
       "      <td>Joe Harris</td>\n",
       "      <td>20:46</td>\n",
       "      <td>4</td>\n",
       "      <td>8</td>\n",
       "      <td>.500</td>\n",
       "      <td>2</td>\n",
       "      <td>5</td>\n",
       "      <td>.400</td>\n",
       "      <td>0</td>\n",
       "      <td>0</td>\n",
       "      <td>...</td>\n",
       "      <td>2</td>\n",
       "      <td>5</td>\n",
       "      <td>7</td>\n",
       "      <td>2</td>\n",
       "      <td>0</td>\n",
       "      <td>1</td>\n",
       "      <td>2</td>\n",
       "      <td>2</td>\n",
       "      <td>10</td>\n",
       "      <td>+21</td>\n",
       "    </tr>\n",
       "    <tr>\n",
       "      <th>5</th>\n",
       "      <td>Spencer Dinwiddie</td>\n",
       "      <td>19:57</td>\n",
       "      <td>2</td>\n",
       "      <td>6</td>\n",
       "      <td>.333</td>\n",
       "      <td>1</td>\n",
       "      <td>3</td>\n",
       "      <td>.333</td>\n",
       "      <td>4</td>\n",
       "      <td>4</td>\n",
       "      <td>...</td>\n",
       "      <td>0</td>\n",
       "      <td>5</td>\n",
       "      <td>5</td>\n",
       "      <td>4</td>\n",
       "      <td>0</td>\n",
       "      <td>0</td>\n",
       "      <td>3</td>\n",
       "      <td>1</td>\n",
       "      <td>9</td>\n",
       "      <td>+24</td>\n",
       "    </tr>\n",
       "  </tbody>\n",
       "</table>\n",
       "<p>5 rows × 21 columns</p>\n",
       "</div>"
      ],
      "text/plain": [
       "            Starters     MP  FG  FGA   FG%  3P  3PA   3P%  FT  FTA  ...  ORB  \\\n",
       "1           Starters     MP  FG  FGA   FG%  3P  3PA   3P%  FT  FTA  ...  ORB   \n",
       "2       Kyrie Irving  25:18  10   16  .625   4    7  .571   2    2  ...    1   \n",
       "3       Kevin Durant  24:56   7   16  .438   1    2  .500   7    7  ...    1   \n",
       "4         Joe Harris  20:46   4    8  .500   2    5  .400   0    0  ...    2   \n",
       "5  Spencer Dinwiddie  19:57   2    6  .333   1    3  .333   4    4  ...    0   \n",
       "\n",
       "   DRB  TRB  AST  STL  BLK  TOV  PF  PTS  +/-  \n",
       "1  DRB  TRB  AST  STL  BLK  TOV  PF  PTS  +/-  \n",
       "2    3    4    4    0    0    1   3   26  +32  \n",
       "3    4    5    3    3    1    1   3   22  +26  \n",
       "4    5    7    2    0    1    2   2   10  +21  \n",
       "5    5    5    4    0    0    3   1    9  +24  \n",
       "\n",
       "[5 rows x 21 columns]"
      ]
     },
     "execution_count": 151,
     "metadata": {},
     "output_type": "execute_result"
    }
   ],
   "source": [
    "away_basic.head()"
   ]
  },
  {
   "cell_type": "code",
   "execution_count": null,
   "id": "416f86a4-e6fc-4a5a-83bd-3c645a697ce9",
   "metadata": {},
   "outputs": [],
   "source": []
  }
 ],
 "metadata": {
  "kernelspec": {
   "display_name": "Python 3 (ipykernel)",
   "language": "python",
   "name": "python3"
  },
  "language_info": {
   "codemirror_mode": {
    "name": "ipython",
    "version": 3
   },
   "file_extension": ".py",
   "mimetype": "text/x-python",
   "name": "python",
   "nbconvert_exporter": "python",
   "pygments_lexer": "ipython3",
   "version": "3.9.12"
  }
 },
 "nbformat": 4,
 "nbformat_minor": 5
}
