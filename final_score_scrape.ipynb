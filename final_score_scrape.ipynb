{
 "cells": [
  {
   "cell_type": "code",
   "execution_count": 224,
   "id": "0cc6461d-e8c8-4942-8287-50fd55b3a6bd",
   "metadata": {},
   "outputs": [],
   "source": [
    "# from selenium import webdriver\n",
    "# import time\n",
    "# from selenium.webdriver.support.ui import WebDriverWait\n",
    "# from selenium.webdriver.support import expected_conditions as EC\n",
    "# from selenium.webdriver.support.ui import Select\n",
    "# from selenium.webdriver.common.by import By\n",
    "# import os"
   ]
  },
  {
   "cell_type": "code",
   "execution_count": 272,
   "id": "f8c86f2e-21b1-43c2-850f-ee9334957edd",
   "metadata": {},
   "outputs": [],
   "source": [
    "# Import relevant libraries\n",
    "from splinter import Browser\n",
    "from bs4 import BeautifulSoup"
   ]
  },
  {
   "cell_type": "code",
   "execution_count": 357,
   "id": "9b4b9556-79cc-4b5a-82db-5f430cf3c752",
   "metadata": {},
   "outputs": [
    {
     "data": {
      "text/plain": [
       "[2019]"
      ]
     },
     "execution_count": 357,
     "metadata": {},
     "output_type": "execute_result"
    }
   ],
   "source": [
    "seasons = list(range(2019,2020))\n",
    "seasons"
   ]
  },
  {
   "cell_type": "code",
   "execution_count": 358,
   "id": "4f0e3967-173a-411e-af55-70d4735a1192",
   "metadata": {},
   "outputs": [],
   "source": [
    "# Set up the browser\n",
    "executable_path = {'executable_path':\"C:\\Program Files (x86)\\msedgedriver.exe\"}\n",
    "browser = Browser('edge', **executable_path)"
   ]
  },
  {
   "cell_type": "code",
   "execution_count": 359,
   "id": "eaf6ed24-4036-4c8e-9a23-0bf40e0e072f",
   "metadata": {},
   "outputs": [
    {
     "name": "stdout",
     "output_type": "stream",
     "text": [
      "https://www.basketball-reference.com/leagues/NBA_2019_games-october.html\n",
      "https://www.basketball-reference.com/leagues/NBA_2019_games-november.html\n",
      "https://www.basketball-reference.com/leagues/NBA_2019_games-december.html\n",
      "https://www.basketball-reference.com/leagues/NBA_2019_games-january.html\n",
      "https://www.basketball-reference.com/leagues/NBA_2019_games-february.html\n",
      "https://www.basketball-reference.com/leagues/NBA_2019_games-march.html\n",
      "https://www.basketball-reference.com/leagues/NBA_2019_games-april.html\n",
      "https://www.basketball-reference.com/leagues/NBA_2019_games-may.html\n",
      "https://www.basketball-reference.com/leagues/NBA_2019_games-june.html\n"
     ]
    }
   ],
   "source": [
    "for season in seasons:\n",
    "    # Visit the website for scraping\n",
    "    url = f\"https://www.basketball-reference.com/leagues/NBA_{season}_games.html\"\n",
    "    browser.visit(url)\n",
    "\n",
    "    # Create a BeautifulSoup object\n",
    "    html = browser.html\n",
    "    soup = BeautifulSoup(html, 'html.parser')\n",
    "\n",
    "    filter_div = soup.find('div', class_='filter')\n",
    "    links = filter_div.find_all('a')\n",
    "    urls = [link.get(\"href\") for link in links]\n",
    "\n",
    "    for url in urls:\n",
    "        print(f\"https://www.basketball-reference.com{url}\")"
   ]
  },
  {
   "cell_type": "code",
   "execution_count": 360,
   "id": "e3642187-9aba-46a4-81a8-d9d1228e87e4",
   "metadata": {},
   "outputs": [],
   "source": [
    "table = soup.find('table', id='schedule')\n",
    "\n",
    "links = table.find_all(\"a\")\n",
    "hrefs = [link.get('href') for link in links]\n",
    "box_scores = [link for link in hrefs if link and \"boxscore\" in link and \".html\" in link]"
   ]
  },
  {
   "cell_type": "code",
   "execution_count": 361,
   "id": "f09c6e7f-5975-4cbe-a43b-d6a2185a2c03",
   "metadata": {},
   "outputs": [
    {
     "name": "stdout",
     "output_type": "stream",
     "text": [
      "https://www.basketball-reference.com/boxscores/201810160BOS.html\n",
      "https://www.basketball-reference.com/boxscores/201810160GSW.html\n",
      "https://www.basketball-reference.com/boxscores/201810170CHO.html\n",
      "https://www.basketball-reference.com/boxscores/201810170DET.html\n",
      "https://www.basketball-reference.com/boxscores/201810170IND.html\n",
      "https://www.basketball-reference.com/boxscores/201810170ORL.html\n",
      "https://www.basketball-reference.com/boxscores/201810170NYK.html\n",
      "https://www.basketball-reference.com/boxscores/201810170TOR.html\n",
      "https://www.basketball-reference.com/boxscores/201810170HOU.html\n",
      "https://www.basketball-reference.com/boxscores/201810170SAS.html\n",
      "https://www.basketball-reference.com/boxscores/201810170SAC.html\n",
      "https://www.basketball-reference.com/boxscores/201810170LAC.html\n",
      "https://www.basketball-reference.com/boxscores/201810170PHO.html\n",
      "https://www.basketball-reference.com/boxscores/201810180PHI.html\n",
      "https://www.basketball-reference.com/boxscores/201810180WAS.html\n",
      "https://www.basketball-reference.com/boxscores/201810180POR.html\n",
      "https://www.basketball-reference.com/boxscores/201810190ORL.html\n",
      "https://www.basketball-reference.com/boxscores/201810190BRK.html\n",
      "https://www.basketball-reference.com/boxscores/201810190MEM.html\n",
      "https://www.basketball-reference.com/boxscores/201810190MIN.html\n",
      "https://www.basketball-reference.com/boxscores/201810190NOP.html\n",
      "https://www.basketball-reference.com/boxscores/201810190TOR.html\n",
      "https://www.basketball-reference.com/boxscores/201810190MIL.html\n",
      "https://www.basketball-reference.com/boxscores/201810190LAC.html\n",
      "https://www.basketball-reference.com/boxscores/201810190UTA.html\n",
      "https://www.basketball-reference.com/boxscores/201810200IND.html\n",
      "https://www.basketball-reference.com/boxscores/201810200WAS.html\n",
      "https://www.basketball-reference.com/boxscores/201810200NYK.html\n",
      "https://www.basketball-reference.com/boxscores/201810200PHI.html\n",
      "https://www.basketball-reference.com/boxscores/201810200CHI.html\n",
      "https://www.basketball-reference.com/boxscores/201810200MIA.html\n",
      "https://www.basketball-reference.com/boxscores/201810200DAL.html\n",
      "https://www.basketball-reference.com/boxscores/201810200DEN.html\n",
      "https://www.basketball-reference.com/boxscores/201810200POR.html\n",
      "https://www.basketball-reference.com/boxscores/201810200LAL.html\n",
      "https://www.basketball-reference.com/boxscores/201810210CLE.html\n",
      "https://www.basketball-reference.com/boxscores/201810210OKC.html\n",
      "https://www.basketball-reference.com/boxscores/201810210DEN.html\n",
      "https://www.basketball-reference.com/boxscores/201810210LAC.html\n",
      "https://www.basketball-reference.com/boxscores/201810220BOS.html\n",
      "https://www.basketball-reference.com/boxscores/201810220TOR.html\n",
      "https://www.basketball-reference.com/boxscores/201810220MIL.html\n",
      "https://www.basketball-reference.com/boxscores/201810220MIN.html\n",
      "https://www.basketball-reference.com/boxscores/201810220DAL.html\n",
      "https://www.basketball-reference.com/boxscores/201810220UTA.html\n",
      "https://www.basketball-reference.com/boxscores/201810220POR.html\n",
      "https://www.basketball-reference.com/boxscores/201810220GSW.html\n",
      "https://www.basketball-reference.com/boxscores/201810220LAL.html\n",
      "https://www.basketball-reference.com/boxscores/201810230DET.html\n",
      "https://www.basketball-reference.com/boxscores/201810230NOP.html\n",
      "https://www.basketball-reference.com/boxscores/201810230DEN.html\n",
      "https://www.basketball-reference.com/boxscores/201810240ATL.html\n",
      "https://www.basketball-reference.com/boxscores/201810240CLE.html\n",
      "https://www.basketball-reference.com/boxscores/201810240MIA.html\n",
      "https://www.basketball-reference.com/boxscores/201810240TOR.html\n",
      "https://www.basketball-reference.com/boxscores/201810240CHI.html\n",
      "https://www.basketball-reference.com/boxscores/201810240HOU.html\n",
      "https://www.basketball-reference.com/boxscores/201810240SAS.html\n",
      "https://www.basketball-reference.com/boxscores/201810240MIL.html\n",
      "https://www.basketball-reference.com/boxscores/201810240PHO.html\n",
      "https://www.basketball-reference.com/boxscores/201810240SAC.html\n",
      "https://www.basketball-reference.com/boxscores/201810240GSW.html\n",
      "https://www.basketball-reference.com/boxscores/201810250DET.html\n",
      "https://www.basketball-reference.com/boxscores/201810250ORL.html\n",
      "https://www.basketball-reference.com/boxscores/201810250OKC.html\n",
      "https://www.basketball-reference.com/boxscores/201810250LAL.html\n",
      "https://www.basketball-reference.com/boxscores/201810260CHO.html\n",
      "https://www.basketball-reference.com/boxscores/201810260NYK.html\n",
      "https://www.basketball-reference.com/boxscores/201810260TOR.html\n",
      "https://www.basketball-reference.com/boxscores/201810260HOU.html\n",
      "https://www.basketball-reference.com/boxscores/201810260MIN.html\n",
      "https://www.basketball-reference.com/boxscores/201810260NOP.html\n",
      "https://www.basketball-reference.com/boxscores/201810260SAC.html\n",
      "https://www.basketball-reference.com/boxscores/201810270DET.html\n",
      "https://www.basketball-reference.com/boxscores/201810270NOP.html\n",
      "https://www.basketball-reference.com/boxscores/201810270ATL.html\n",
      "https://www.basketball-reference.com/boxscores/201810270CLE.html\n",
      "https://www.basketball-reference.com/boxscores/201810270PHI.html\n",
      "https://www.basketball-reference.com/boxscores/201810270MEM.html\n",
      "https://www.basketball-reference.com/boxscores/201810270MIA.html\n",
      "https://www.basketball-reference.com/boxscores/201810270MIL.html\n",
      "https://www.basketball-reference.com/boxscores/201810270SAS.html\n",
      "https://www.basketball-reference.com/boxscores/201810280BRK.html\n",
      "https://www.basketball-reference.com/boxscores/201810280DAL.html\n",
      "https://www.basketball-reference.com/boxscores/201810280OKC.html\n",
      "https://www.basketball-reference.com/boxscores/201810280LAC.html\n",
      "https://www.basketball-reference.com/boxscores/201810290IND.html\n",
      "https://www.basketball-reference.com/boxscores/201810290PHI.html\n",
      "https://www.basketball-reference.com/boxscores/201810290MIA.html\n",
      "https://www.basketball-reference.com/boxscores/201810290NYK.html\n",
      "https://www.basketball-reference.com/boxscores/201810290CHI.html\n",
      "https://www.basketball-reference.com/boxscores/201810290MIL.html\n",
      "https://www.basketball-reference.com/boxscores/201810290MIN.html\n",
      "https://www.basketball-reference.com/boxscores/201810290SAS.html\n",
      "https://www.basketball-reference.com/boxscores/201810290DEN.html\n",
      "https://www.basketball-reference.com/boxscores/201810300CHO.html\n",
      "https://www.basketball-reference.com/boxscores/201810300CLE.html\n",
      "https://www.basketball-reference.com/boxscores/201810300ORL.html\n",
      "https://www.basketball-reference.com/boxscores/201810300BOS.html\n",
      "https://www.basketball-reference.com/boxscores/201810300TOR.html\n",
      "https://www.basketball-reference.com/boxscores/201810300HOU.html\n",
      "https://www.basketball-reference.com/boxscores/201810300MEM.html\n",
      "https://www.basketball-reference.com/boxscores/201810300OKC.html\n",
      "https://www.basketball-reference.com/boxscores/201810310BRK.html\n",
      "https://www.basketball-reference.com/boxscores/201810310CHI.html\n",
      "https://www.basketball-reference.com/boxscores/201810310MIN.html\n",
      "https://www.basketball-reference.com/boxscores/201810310NYK.html\n",
      "https://www.basketball-reference.com/boxscores/201810310GSW.html\n",
      "https://www.basketball-reference.com/boxscores/201810310LAL.html\n",
      "https://www.basketball-reference.com/boxscores/201810310PHO.html\n"
     ]
    }
   ],
   "source": [
    "for score in box_scores:\n",
    "    print(f\"https://www.basketball-reference.com{score}\")"
   ]
  },
  {
   "cell_type": "code",
   "execution_count": null,
   "id": "9d4cb53b-60f8-468c-b940-b17507dd6c67",
   "metadata": {},
   "outputs": [],
   "source": []
  },
  {
   "cell_type": "code",
   "execution_count": null,
   "id": "0db1c543-5fe6-4f79-8ffd-808853e7b781",
   "metadata": {},
   "outputs": [],
   "source": []
  },
  {
   "cell_type": "code",
   "execution_count": null,
   "id": "a55e83c3-a29f-4b50-9b1c-4c059aaf1d65",
   "metadata": {},
   "outputs": [],
   "source": []
  },
  {
   "cell_type": "code",
   "execution_count": null,
   "id": "f7c24ef2-62eb-4921-95e4-ff90636b76fe",
   "metadata": {},
   "outputs": [],
   "source": []
  },
  {
   "cell_type": "code",
   "execution_count": null,
   "id": "1b17938e-ebde-4565-8b4e-0823bae675cd",
   "metadata": {},
   "outputs": [],
   "source": []
  },
  {
   "cell_type": "code",
   "execution_count": null,
   "id": "64531d9c-2b13-4e0f-a590-286d8ae62f3b",
   "metadata": {},
   "outputs": [],
   "source": []
  },
  {
   "cell_type": "code",
   "execution_count": null,
   "id": "cbd8864a-1298-4549-af39-209b32170c16",
   "metadata": {},
   "outputs": [],
   "source": []
  },
  {
   "cell_type": "code",
   "execution_count": null,
   "id": "13a14085-65f6-4604-bf9a-1d94f03f97f3",
   "metadata": {},
   "outputs": [],
   "source": []
  },
  {
   "cell_type": "code",
   "execution_count": 168,
   "id": "60bd1529-46e4-49ca-932b-ae7335204aa9",
   "metadata": {},
   "outputs": [],
   "source": [
    "# DATA_DIR = \"data\"\n",
    "# STANDINGS_DIR = os.path.join(DATA_DIR, \"standings\")\n",
    "# SCORES_DIR = os.path.join(DATA_DIR, \"scores\")"
   ]
  },
  {
   "cell_type": "code",
   "execution_count": null,
   "id": "36898933-6e6d-4c1f-bb5a-95917149d6c0",
   "metadata": {},
   "outputs": [],
   "source": []
  },
  {
   "cell_type": "code",
   "execution_count": null,
   "id": "e5b0d2a5-139d-40f4-ac0c-22ce7689b934",
   "metadata": {},
   "outputs": [],
   "source": []
  },
  {
   "cell_type": "code",
   "execution_count": null,
   "id": "bb859915-8129-4624-942d-8e7f2db235c6",
   "metadata": {},
   "outputs": [],
   "source": []
  }
 ],
 "metadata": {
  "kernelspec": {
   "display_name": "Python 3 (ipykernel)",
   "language": "python",
   "name": "python3"
  },
  "language_info": {
   "codemirror_mode": {
    "name": "ipython",
    "version": 3
   },
   "file_extension": ".py",
   "mimetype": "text/x-python",
   "name": "python",
   "nbconvert_exporter": "python",
   "pygments_lexer": "ipython3",
   "version": "3.9.12"
  }
 },
 "nbformat": 4,
 "nbformat_minor": 5
}
