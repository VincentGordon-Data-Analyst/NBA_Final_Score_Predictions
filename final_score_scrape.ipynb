{
 "cells": [
  {
   "cell_type": "code",
   "execution_count": 224,
   "id": "0cc6461d-e8c8-4942-8287-50fd55b3a6bd",
   "metadata": {},
   "outputs": [],
   "source": [
    "# from selenium import webdriver\n",
    "# import time\n",
    "# from selenium.webdriver.support.ui import WebDriverWait\n",
    "# from selenium.webdriver.support import expected_conditions as EC\n",
    "# from selenium.webdriver.support.ui import Select\n",
    "# from selenium.webdriver.common.by import By\n",
    "# import os"
   ]
  },
  {
   "cell_type": "code",
   "execution_count": 272,
   "id": "f8c86f2e-21b1-43c2-850f-ee9334957edd",
   "metadata": {},
   "outputs": [],
   "source": [
    "# Import relevant libraries\n",
    "from splinter import Browser\n",
    "from bs4 import BeautifulSoup"
   ]
  },
  {
   "cell_type": "code",
   "execution_count": null,
   "id": "9b4b9556-79cc-4b5a-82db-5f430cf3c752",
   "metadata": {},
   "outputs": [],
   "source": [
    "seasons = list(range(2019,2020))\n",
    "seasons"
   ]
  },
  {
   "cell_type": "code",
   "execution_count": 274,
   "id": "4f0e3967-173a-411e-af55-70d4735a1192",
   "metadata": {},
   "outputs": [],
   "source": [
    "# Set up the browser\n",
    "executable_path = {'executable_path':\"C:\\Program Files (x86)\\msedgedriver.exe\"}\n",
    "browser = Browser('edge', **executable_path)"
   ]
  },
  {
   "cell_type": "code",
   "execution_count": 309,
   "id": "eaf6ed24-4036-4c8e-9a23-0bf40e0e072f",
   "metadata": {},
   "outputs": [
    {
     "name": "stdout",
     "output_type": "stream",
     "text": [
      "https://www.basketball-reference.com/leagues/NBA_2019_games-october.html\n",
      "https://www.basketball-reference.com/leagues/NBA_2019_games-november.html\n",
      "https://www.basketball-reference.com/leagues/NBA_2019_games-december.html\n",
      "https://www.basketball-reference.com/leagues/NBA_2019_games-january.html\n",
      "https://www.basketball-reference.com/leagues/NBA_2019_games-february.html\n",
      "https://www.basketball-reference.com/leagues/NBA_2019_games-march.html\n",
      "https://www.basketball-reference.com/leagues/NBA_2019_games-april.html\n",
      "https://www.basketball-reference.com/leagues/NBA_2019_games-may.html\n",
      "https://www.basketball-reference.com/leagues/NBA_2019_games-june.html\n",
      "https://www.basketball-reference.com/leagues/NBA_2020_games-october.html\n",
      "https://www.basketball-reference.com/leagues/NBA_2020_games-november.html\n",
      "https://www.basketball-reference.com/leagues/NBA_2020_games-december.html\n",
      "https://www.basketball-reference.com/leagues/NBA_2020_games-january.html\n",
      "https://www.basketball-reference.com/leagues/NBA_2020_games-february.html\n",
      "https://www.basketball-reference.com/leagues/NBA_2020_games-march.html\n",
      "https://www.basketball-reference.com/leagues/NBA_2020_games-july.html\n",
      "https://www.basketball-reference.com/leagues/NBA_2020_games-august.html\n",
      "https://www.basketball-reference.com/leagues/NBA_2020_games-september.html\n"
     ]
    }
   ],
   "source": [
    "for season in seasons:\n",
    "    # Visit the website for scraping\n",
    "    url = f\"https://www.basketball-reference.com/leagues/NBA_{season}_games.html\"\n",
    "    browser.visit(url)\n",
    "\n",
    "    # Create a BeautifulSoup object\n",
    "    html = browser.html\n",
    "    soup = BeautifulSoup(html, 'html.parser')\n",
    "\n",
    "    filter_div = soup.find('div', class_='filter')\n",
    "    links = filter_div.find_all('a')\n",
    "    urls = [link.get(\"href\") for link in links]\n",
    "\n",
    "    for url in urls:\n",
    "        print(f\"https://www.basketball-reference.com{url}\")"
   ]
  },
  {
   "cell_type": "code",
   "execution_count": 344,
   "id": "e3642187-9aba-46a4-81a8-d9d1228e87e4",
   "metadata": {},
   "outputs": [
    {
     "name": "stdout",
     "output_type": "stream",
     "text": [
      "https://www.basketball-reference.com//boxscores/201910220TOR.html\n"
     ]
    }
   ],
   "source": [
    "table = soup.find('table', id='schedule')\n",
    "\n",
    "table_body = table.find('tbody')\n",
    "\n",
    "rows = table_body.find_all('tr')\n",
    "\n",
    "rows[6].find_all('a')[-1].get('href')\n",
    "\n",
    "print(f\"https://www.basketball-reference.com/{rows[0].find_all('a')[-1].get('href')}\")\n"
   ]
  },
  {
   "cell_type": "code",
   "execution_count": null,
   "id": "f09c6e7f-5975-4cbe-a43b-d6a2185a2c03",
   "metadata": {},
   "outputs": [],
   "source": []
  },
  {
   "cell_type": "code",
   "execution_count": null,
   "id": "9d4cb53b-60f8-468c-b940-b17507dd6c67",
   "metadata": {},
   "outputs": [],
   "source": []
  },
  {
   "cell_type": "code",
   "execution_count": null,
   "id": "0db1c543-5fe6-4f79-8ffd-808853e7b781",
   "metadata": {},
   "outputs": [],
   "source": []
  },
  {
   "cell_type": "code",
   "execution_count": null,
   "id": "a55e83c3-a29f-4b50-9b1c-4c059aaf1d65",
   "metadata": {},
   "outputs": [],
   "source": []
  },
  {
   "cell_type": "code",
   "execution_count": null,
   "id": "f7c24ef2-62eb-4921-95e4-ff90636b76fe",
   "metadata": {},
   "outputs": [],
   "source": []
  },
  {
   "cell_type": "code",
   "execution_count": null,
   "id": "1b17938e-ebde-4565-8b4e-0823bae675cd",
   "metadata": {},
   "outputs": [],
   "source": []
  },
  {
   "cell_type": "code",
   "execution_count": null,
   "id": "64531d9c-2b13-4e0f-a590-286d8ae62f3b",
   "metadata": {},
   "outputs": [],
   "source": []
  },
  {
   "cell_type": "code",
   "execution_count": null,
   "id": "cbd8864a-1298-4549-af39-209b32170c16",
   "metadata": {},
   "outputs": [],
   "source": []
  },
  {
   "cell_type": "code",
   "execution_count": null,
   "id": "13a14085-65f6-4604-bf9a-1d94f03f97f3",
   "metadata": {},
   "outputs": [],
   "source": []
  },
  {
   "cell_type": "code",
   "execution_count": 168,
   "id": "60bd1529-46e4-49ca-932b-ae7335204aa9",
   "metadata": {},
   "outputs": [],
   "source": [
    "# DATA_DIR = \"data\"\n",
    "# STANDINGS_DIR = os.path.join(DATA_DIR, \"standings\")\n",
    "# SCORES_DIR = os.path.join(DATA_DIR, \"scores\")"
   ]
  },
  {
   "cell_type": "code",
   "execution_count": null,
   "id": "36898933-6e6d-4c1f-bb5a-95917149d6c0",
   "metadata": {},
   "outputs": [],
   "source": []
  },
  {
   "cell_type": "code",
   "execution_count": null,
   "id": "e5b0d2a5-139d-40f4-ac0c-22ce7689b934",
   "metadata": {},
   "outputs": [],
   "source": []
  },
  {
   "cell_type": "code",
   "execution_count": null,
   "id": "bb859915-8129-4624-942d-8e7f2db235c6",
   "metadata": {},
   "outputs": [],
   "source": []
  }
 ],
 "metadata": {
  "kernelspec": {
   "display_name": "Python 3 (ipykernel)",
   "language": "python",
   "name": "python3"
  },
  "language_info": {
   "codemirror_mode": {
    "name": "ipython",
    "version": 3
   },
   "file_extension": ".py",
   "mimetype": "text/x-python",
   "name": "python",
   "nbconvert_exporter": "python",
   "pygments_lexer": "ipython3",
   "version": "3.9.12"
  }
 },
 "nbformat": 4,
 "nbformat_minor": 5
}
